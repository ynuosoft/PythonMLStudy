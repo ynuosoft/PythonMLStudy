{
 "cells": [
  {
   "cell_type": "markdown",
   "metadata": {},
   "source": [
    "# 数学式表达式 Sympy"
   ]
  },
  {
   "cell_type": "markdown",
   "metadata": {},
   "source": [
    "## 1 引用"
   ]
  },
  {
   "cell_type": "code",
   "execution_count": 2,
   "metadata": {
    "collapsed": true
   },
   "outputs": [],
   "source": [
    "from sympy import *\n",
    "import numpy as np\n",
    "import math"
   ]
  },
  {
   "cell_type": "code",
   "execution_count": null,
   "metadata": {
    "collapsed": true
   },
   "outputs": [],
   "source": []
  },
  {
   "cell_type": "code",
   "execution_count": 3,
   "metadata": {
    "collapsed": true
   },
   "outputs": [],
   "source": [
    "#美化效果\n",
    "init_printing(use_unicode=True)\n",
    "# init_session()"
   ]
  },
  {
   "cell_type": "markdown",
   "metadata": {},
   "source": [
    "## 2 表达式"
   ]
  },
  {
   "cell_type": "code",
   "execution_count": 4,
   "metadata": {
    "collapsed": true
   },
   "outputs": [],
   "source": [
    "x, y = symbols('x y')\n",
    "expr01 = x + 2*y"
   ]
  },
  {
   "cell_type": "code",
   "execution_count": 5,
   "metadata": {},
   "outputs": [
    {
     "data": {
      "image/png": "[encoded data removed]",
      "text/latex": [
       "$$x + 2 y$$"
      ],
      "text/plain": [
       "x + 2⋅y"
      ]
     },
     "execution_count": 5,
     "metadata": {},
     "output_type": "execute_result"
    }
   ],
   "source": [
    "expr01"
   ]
  },
  {
   "cell_type": "code",
   "execution_count": 6,
   "metadata": {},
   "outputs": [
    {
     "data": {
      "text/plain": [
       "sympy.core.add.Add"
      ]
     },
     "execution_count": 6,
     "metadata": {},
     "output_type": "execute_result"
    }
   ],
   "source": [
    "type(expr01)"
   ]
  },
  {
   "cell_type": "code",
   "execution_count": 8,
   "metadata": {},
   "outputs": [],
   "source": [
    "expr02=x*expr01"
   ]
  },
  {
   "cell_type": "code",
   "execution_count": 9,
   "metadata": {},
   "outputs": [
    {
     "data": {
      "image/png": "[encoded data removed]",
      "text/latex": [
       "$$x \\left(x + 2 y\\right)$$"
      ],
      "text/plain": [
       "x⋅(x + 2⋅y)"
      ]
     },
     "execution_count": 9,
     "metadata": {},
     "output_type": "execute_result"
    }
   ],
   "source": [
    "expr02"
   ]
  },
  {
   "cell_type": "markdown",
   "metadata": {},
   "source": [
    "## 2.1 表达式展开"
   ]
  },
  {
   "cell_type": "code",
   "execution_count": 11,
   "metadata": {},
   "outputs": [
    {
     "data": {
      "image/png": "[encoded data removed]",
      "text/latex": [
       "$$x^{2} + 2 x y$$"
      ],
      "text/plain": [
       " 2        \n",
       "x  + 2⋅x⋅y"
      ]
     },
     "execution_count": 11,
     "metadata": {},
     "output_type": "execute_result"
    }
   ],
   "source": [
    "expanded_expr =expand(expr02)\n",
    "expanded_expr"
   ]
  },
  {
   "cell_type": "markdown",
   "metadata": {},
   "source": [
    "# 3 使用表达式"
   ]
  },
  {
   "cell_type": "code",
   "execution_count": 45,
   "metadata": {},
   "outputs": [
    {
     "data": {
      "image/png": "[encoded data removed]",
      "text/latex": [
       "$$210$$"
      ],
      "text/plain": [
       "210"
      ]
     },
     "execution_count": 45,
     "metadata": {},
     "output_type": "execute_result"
    }
   ],
   "source": [
    "expr01.subs([(x,10),(y,100)])"
   ]
  },
  {
   "cell_type": "markdown",
   "metadata": {
    "collapsed": true
   },
   "source": [
    "# 4 数学表达式求解"
   ]
  },
  {
   "cell_type": "code",
   "execution_count": 13,
   "metadata": {},
   "outputs": [
    {
     "data": {
      "image/png": "[encoded data removed]",
      "text/latex": [
       "$$\\left\\{0, 1\\right\\}$$"
      ],
      "text/plain": [
       "{0, 1}"
      ]
     },
     "execution_count": 13,
     "metadata": {},
     "output_type": "execute_result"
    }
   ],
   "source": [
    "solveset(x**2 - x, x)"
   ]
  },
  {
   "cell_type": "code",
   "execution_count": 14,
   "metadata": {},
   "outputs": [
    {
     "name": "stdout",
     "output_type": "stream",
     "text": [
      " solveset(f, symbol=None, domain=S.Complexes)\n",
      "\n",
      "Solves a given inequality or equation with set as output\n",
      "\n",
      "Parameters\n",
      "==========\n",
      "\n",
      "f : Expr or a relational.\n",
      "    The target equation or inequality\n",
      "symbol : Symbol\n",
      "    The variable for which the equation is solved\n",
      "domain : Set\n",
      "    The domain over which the equation is solved\n",
      "\n",
      "Returns\n",
      "=======\n",
      "\n",
      "Set\n",
      "    A set of values for `symbol` for which `f` is True or is equal to\n",
      "    zero. An `EmptySet` is returned if `f` is False or nonzero.\n",
      "    A `ConditionSet` is returned as unsolved object if algorithms\n",
      "    to evaluatee complete solution are not yet implemented.\n",
      "\n",
      "`solveset` claims to be complete in the solution set that it returns.\n",
      "\n",
      "Raises\n",
      "======\n",
      "\n",
      "NotImplementedError\n",
      "    The algorithms to solve inequalities in complex domain  are\n",
      "    not yet implemented.\n",
      "ValueError\n",
      "    The input is not valid.\n",
      "RuntimeError\n",
      "    It is a bug, please report to the github issue tracker.\n",
      "\n",
      "\n",
      "Notes\n",
      "=====\n",
      "\n",
      "Python interprets 0 and 1 as False and True, respectively, but\n",
      "in this function they refer to solutions of an expression. So 0 and 1\n",
      "return the Domain and EmptySet, respectively, while True and False\n",
      "return the opposite (as they are assumed to be solutions of relational\n",
      "expressions).\n",
      "\n",
      "\n",
      "See Also\n",
      "========\n",
      "\n",
      "solveset_real: solver for real domain\n",
      "solveset_complex: solver for complex domain\n",
      "\n",
      "Examples\n",
      "========\n",
      "\n",
      ">>> from sympy import exp, sin, Symbol, pprint, S\n",
      ">>> from sympy.solvers.solveset import solveset, solveset_real\n",
      "\n",
      "* The default domain is complex. Not specifying a domain will lead\n",
      "  to the solving of the equation in the complex domain (and this\n",
      "  is not affected by the assumptions on the symbol):\n",
      "\n",
      ">>> x = Symbol('x')\n",
      ">>> pprint(solveset(exp(x) - 1, x), use_unicode=False)\n",
      "{2*n*I*pi | n in Integers()}\n",
      "\n",
      ">>> x = Symbol('x', real=True)\n",
      ">>> pprint(solveset(exp(x) - 1, x), use_unicode=False)\n",
      "{2*n*I*pi | n in Integers()}\n",
      "\n",
      "* If you want to use `solveset` to solve the equation in the\n",
      "  real domain, provide a real domain. (Using `solveset\\_real`\n",
      "  does this automatically.)\n",
      "\n",
      ">>> R = S.Reals\n",
      ">>> x = Symbol('x')\n",
      ">>> solveset(exp(x) - 1, x, R)\n",
      "{0}\n",
      ">>> solveset_real(exp(x) - 1, x)\n",
      "{0}\n",
      "\n",
      "The solution is mostly unaffected by assumptions on the symbol,\n",
      "but there may be some slight difference:\n",
      "\n",
      ">>> pprint(solveset(sin(x)/x,x), use_unicode=False)\n",
      "({2*n*pi | n in Integers()} \\ {0}) U ({2*n*pi + pi | n in Integers()} \\ {0})\n",
      "\n",
      ">>> p = Symbol('p', positive=True)\n",
      ">>> pprint(solveset(sin(p)/p, p), use_unicode=False)\n",
      "{2*n*pi | n in Integers()} U {2*n*pi + pi | n in Integers()}\n",
      "\n",
      "* Inequalities can be solved over the real domain only. Use of a complex\n",
      "  domain leads to a NotImplementedError.\n",
      "\n",
      ">>> solveset(exp(x) > 1, x, R)\n",
      "(0, oo)\n"
     ]
    }
   ],
   "source": [
    "np.info(solveset)"
   ]
  },
  {
   "cell_type": "code",
   "execution_count": 15,
   "metadata": {},
   "outputs": [
    {
     "data": {
      "image/png": "[encoded data removed]",
      "text/latex": [
       "$$\\left\\{-1, 1\\right\\}$$"
      ],
      "text/plain": [
       "{-1, 1}"
      ]
     },
     "execution_count": 15,
     "metadata": {},
     "output_type": "execute_result"
    }
   ],
   "source": [
    "solveset(Eq(x**2 - 1, 0), x)"
   ]
  },
  {
   "cell_type": "code",
   "execution_count": 16,
   "metadata": {},
   "outputs": [
    {
     "name": "stdout",
     "output_type": "stream",
     "text": [
      " Equality()\n",
      "\n",
      "An equal relation between two objects.\n",
      "\n",
      "Represents that two objects are equal.  If they can be easily shown\n",
      "to be definitively equal (or unequal), this will reduce to True (or\n",
      "False).  Otherwise, the relation is maintained as an unevaluated\n",
      "Equality object.  Use the ``simplify`` function on this object for\n",
      "more nontrivial evaluation of the equality relation.\n",
      "\n",
      "As usual, the keyword argument ``evaluate=False`` can be used to\n",
      "prevent any evaluation.\n",
      "\n",
      "Examples\n",
      "========\n",
      "\n",
      ">>> from sympy import Eq, simplify, exp, cos\n",
      ">>> from sympy.abc import x, y\n",
      ">>> Eq(y, x + x**2)\n",
      "Eq(y, x**2 + x)\n",
      ">>> Eq(2, 5)\n",
      "False\n",
      ">>> Eq(2, 5, evaluate=False)\n",
      "Eq(2, 5)\n",
      ">>> _.doit()\n",
      "False\n",
      ">>> Eq(exp(x), exp(x).rewrite(cos))\n",
      "Eq(exp(x), sinh(x) + cosh(x))\n",
      ">>> simplify(_)\n",
      "True\n",
      "\n",
      "See Also\n",
      "========\n",
      "\n",
      "sympy.logic.boolalg.Equivalent : for representing equality between two\n",
      "    boolean expressions\n",
      "\n",
      "Notes\n",
      "=====\n",
      "\n",
      "This class is not the same as the == operator.  The == operator tests\n",
      "for exact structural equality between two expressions; this class\n",
      "compares expressions mathematically.\n",
      "\n",
      "If either object defines an `_eval_Eq` method, it can be used in place of\n",
      "the default algorithm.  If `lhs._eval_Eq(rhs)` or `rhs._eval_Eq(lhs)`\n",
      "returns anything other than None, that return value will be substituted for\n",
      "the Equality.  If None is returned by `_eval_Eq`, an Equality object will\n",
      "be created as usual.\n",
      "\n",
      "\n",
      "Methods:\n",
      "\n",
      "  xreplace  --  Replace occurrences of objects within the expression.\n",
      "  primitive  --  \n",
      "  as_coefficient  --  \n",
      "  is_algebraic_expr  --  \n",
      "  as_ordered_terms  --  Transform an expression to an ordered list of terms.\n",
      "  find  --  Find all subexpressions matching a query.\n",
      "  subs  --  Substitutes old for new in an expression after sympifying args.\n",
      "  as_numer_denom  --  expression -> a/b -> a, b\n",
      "  ratsimp  --  See the ratsimp function in sympy.simplify\n",
      "  integrate  --  See the integrate function in sympy.integrals\n",
      "  has  --  Test whether any subexpression matches any of the patterns.\n",
      "  matches  --  \n",
      "  apart  --  See the apart function in sympy.polys\n",
      "  as_poly  --  Converts ``self`` to a polynomial or returns ``None``.\n",
      "  as_set  --  Rewrites univariate inequality in terms of real sets\n",
      "  series  --  \n",
      "  dummy_eq  --  Compare two expressions and handle dummy symbols.\n",
      "  cancel  --  See the cancel function in sympy.polys\n",
      "  trigsimp  --  See the trigsimp function in sympy.simplify\n",
      "  radsimp  --  See the radsimp function in sympy.simplify\n",
      "  collect  --  See the collect function in sympy.simplify\n",
      "  fourier_series  --  Compute fourier sine/cosine series of self.\n",
      "  separate  --  See the separate function in sympy.simplify\n",
      "  as_content_primitive  --  \n",
      "  args_cnc  --  Return [commutative factors, non-commutative factors] of self.\n",
      "  extract_branch_factor  --  \n",
      "  powsimp  --  See the powsimp function in sympy.simplify\n",
      "  leadterm  --  Returns the leading term a*x**b as a tuple (a, b).\n",
      "  refine  --  See the refine function in sympy.assumptions\n",
      "  transpose  --  None\n",
      "  atoms  --  Returns the atoms that form the current object.\n",
      "  is_rational_function  --  \n",
      "  as_terms  --  Transform an expression to a list of terms.\n",
      "  count_ops  --  wrapper for count_ops that returns the operation count.\n",
      "  as_expr  --  Convert a polynomial to a SymPy expression.\n",
      "  class_key  --  Nice order of classes.\n",
      "  is_hypergeometric  --  None\n",
      "  invert  --  \n",
      "  fromiter  --  Create a new object from an iterable.\n",
      "  as_coeff_mul  --  Return the tuple (c, args) where self is written as a Mul, ``m``.\n",
      "  as_base_exp  --  None\n",
      "  replace  --  Replace matching subexpressions of ``self`` with ``value``.\n",
      "  equals  --  \n",
      "  diff  --  None\n",
      "  extract_additively  --  \n",
      "  round  --  Return x rounded to the given decimal place.\n",
      "  adjoint  --  None\n",
      "  rewrite  --  Rewrite functions in terms of other functions.\n",
      "  compute_leading_term  --  \n",
      "  is_polynomial  --  Return True if self is a polynomial in syms and False otherwise.\n",
      "  nsimplify  --  See the nsimplify function in sympy.simplify\n",
      "  factor  --  See the factor() function in sympy.polys.polytools\n",
      "  as_real_imag  --  \n",
      "  as_independent  --  \n",
      "  copy  --  None\n",
      "  count  --  Count the number of matching subexpressions.\n",
      "  nseries  --  Wrapper to _eval_nseries if assumptions allow, else to series.\n",
      "  coeff  --  \n",
      "  n  --  \n",
      "  removeO  --  Removes the additive O(..) symbol if there is one\n",
      "  as_coeff_add  --  Return the tuple (c, args) where self is written as an Add, ``a``.\n",
      "  limit  --  Compute limit x->xlim.\n",
      "  match  --  Pattern matching.\n",
      "  compare  --  Return -1, 0, 1 if the object is smaller, equal, or greater than other.\n",
      "  getO  --  Returns the additive O(..) symbol if there is one, else None.\n",
      "  evalf  --  \n",
      "  conjugate  --  None\n",
      "  is_constant  --  \n",
      "  extract_multiplicatively  --  \n",
      "  getn  --  Returns the order of the expression.\n",
      "  fps  --  Compute formal power power series of self.\n",
      "  lseries  --  Wrapper for series yielding an iterator of the terms of the series.\n",
      "  normal  --  None\n",
      "  could_extract_minus_sign  --  \n",
      "  doit  --  \n",
      "  simplify  --  See the simplify function in sympy.simplify\n",
      "  as_ordered_factors  --  Return list of ordered factors (if Mul) else [self].\n",
      "  expand  --  Expand an expression using hints.\n",
      "  sort_key  --  None\n",
      "  as_powers_dict  --  \n",
      "  as_coeff_Mul  --  Efficiently extract the coefficient of a product.\n",
      "  rcall  --  Apply on the argument recursively through the expression tree.\n",
      "  as_coeff_Add  --  Efficiently extract the coefficient of a summation.\n",
      "  together  --  See the together function in sympy.polys\n",
      "  as_leading_term  --  Returns the leading (nonzero) term of the series expansion of self.\n",
      "  as_coefficients_dict  --  \n",
      "  combsimp  --  See the combsimp function in sympy.simplify\n",
      "  as_coeff_exponent  --  ``c*x**e -> c,e`` where x can be any symbolic expression.\n",
      "  taylor_term  --  General method for the taylor term.\n"
     ]
    }
   ],
   "source": [
    "np.info(Eq)"
   ]
  },
  {
   "cell_type": "code",
   "execution_count": 49,
   "metadata": {},
   "outputs": [
    {
     "data": {
      "image/png": "[encoded data removed]",
      "text/latex": [
       "$$\\left\\{-1, 1\\right\\}$$"
      ],
      "text/plain": [
       "{-1, 1}"
      ]
     },
     "execution_count": 49,
     "metadata": {},
     "output_type": "execute_result"
    }
   ],
   "source": [
    "solveset(x**2 - 1, x)"
   ]
  },
  {
   "cell_type": "code",
   "execution_count": 50,
   "metadata": {},
   "outputs": [
    {
     "data": {
      "image/png": "[encoded data removed]",
      "text/latex": [
       "$$\\left\\{x\\; |\\; x \\in \\mathbb{C} \\wedge - x + \\cos{\\left (x \\right )} = 0 \\right\\}$$"
      ],
      "text/plain": [
       "{x | x ∊ ℂ ∧ -x + cos(x) = 0}"
      ]
     },
     "execution_count": 50,
     "metadata": {},
     "output_type": "execute_result"
    }
   ],
   "source": [
    "solveset(cos(x) - x, x)"
   ]
  },
  {
   "cell_type": "code",
   "execution_count": null,
   "metadata": {
    "collapsed": true
   },
   "outputs": [],
   "source": []
  },
  {
   "cell_type": "code",
   "execution_count": 46,
   "metadata": {},
   "outputs": [
    {
     "name": "stdout",
     "output_type": "stream",
     "text": [
      " subs(*args, **kwargs)\n",
      "\n",
      "Substitutes old for new in an expression after sympifying args.\n",
      "\n",
      "`args` is either:\n",
      "  - two arguments, e.g. foo.subs(old, new)\n",
      "  - one iterable argument, e.g. foo.subs(iterable). The iterable may be\n",
      "     o an iterable container with (old, new) pairs. In this case the\n",
      "       replacements are processed in the order given with successive\n",
      "       patterns possibly affecting replacements already made.\n",
      "     o a dict or set whose key/value items correspond to old/new pairs.\n",
      "       In this case the old/new pairs will be sorted by op count and in\n",
      "       case of a tie, by number of args and the default_sort_key. The\n",
      "       resulting sorted list is then processed as an iterable container\n",
      "       (see previous).\n",
      "\n",
      "If the keyword ``simultaneous`` is True, the subexpressions will not be\n",
      "evaluated until all the substitutions have been made.\n",
      "\n",
      "Examples\n",
      "========\n",
      "\n",
      ">>> from sympy import pi, exp, limit, oo\n",
      ">>> from sympy.abc import x, y\n",
      ">>> (1 + x*y).subs(x, pi)\n",
      "pi*y + 1\n",
      ">>> (1 + x*y).subs({x:pi, y:2})\n",
      "1 + 2*pi\n",
      ">>> (1 + x*y).subs([(x, pi), (y, 2)])\n",
      "1 + 2*pi\n",
      ">>> reps = [(y, x**2), (x, 2)]\n",
      ">>> (x + y).subs(reps)\n",
      "6\n",
      ">>> (x + y).subs(reversed(reps))\n",
      "x**2 + 2\n",
      "\n",
      ">>> (x**2 + x**4).subs(x**2, y)\n",
      "y**2 + y\n",
      "\n",
      "To replace only the x**2 but not the x**4, use xreplace:\n",
      "\n",
      ">>> (x**2 + x**4).xreplace({x**2: y})\n",
      "x**4 + y\n",
      "\n",
      "To delay evaluation until all substitutions have been made,\n",
      "set the keyword ``simultaneous`` to True:\n",
      "\n",
      ">>> (x/y).subs([(x, 0), (y, 0)])\n",
      "0\n",
      ">>> (x/y).subs([(x, 0), (y, 0)], simultaneous=True)\n",
      "nan\n",
      "\n",
      "This has the added feature of not allowing subsequent substitutions\n",
      "to affect those already made:\n",
      "\n",
      ">>> ((x + y)/y).subs({x + y: y, y: x + y})\n",
      "1\n",
      ">>> ((x + y)/y).subs({x + y: y, y: x + y}, simultaneous=True)\n",
      "y/(x + y)\n",
      "\n",
      "In order to obtain a canonical result, unordered iterables are\n",
      "sorted by count_op length, number of arguments and by the\n",
      "default_sort_key to break any ties. All other iterables are left\n",
      "unsorted.\n",
      "\n",
      ">>> from sympy import sqrt, sin, cos\n",
      ">>> from sympy.abc import a, b, c, d, e\n",
      "\n",
      ">>> A = (sqrt(sin(2*x)), a)\n",
      ">>> B = (sin(2*x), b)\n",
      ">>> C = (cos(2*x), c)\n",
      ">>> D = (x, d)\n",
      ">>> E = (exp(x), e)\n",
      "\n",
      ">>> expr = sqrt(sin(2*x))*sin(exp(x)*x)*cos(2*x) + sin(2*x)\n",
      "\n",
      ">>> expr.subs(dict([A, B, C, D, E]))\n",
      "a*c*sin(d*e) + b\n",
      "\n",
      "The resulting expression represents a literal replacement of the\n",
      "old arguments with the new arguments. This may not reflect the\n",
      "limiting behavior of the expression:\n",
      "\n",
      ">>> (x**3 - 3*x).subs({x: oo})\n",
      "nan\n",
      "\n",
      ">>> limit(x**3 - 3*x, x, oo)\n",
      "oo\n",
      "\n",
      "If the substitution will be followed by numerical\n",
      "evaluation, it is better to pass the substitution to\n",
      "evalf as\n",
      "\n",
      ">>> (1/x).evalf(subs={x: 3.0}, n=21)\n",
      "0.333333333333333333333\n",
      "\n",
      "rather than\n",
      "\n",
      ">>> (1/x).subs({x: 3.0}).evalf(21)\n",
      "0.333333333333333314830\n",
      "\n",
      "as the former will ensure that the desired level of precision is\n",
      "obtained.\n",
      "\n",
      "See Also\n",
      "========\n",
      "replace: replacement capable of doing wildcard-like matching,\n",
      "         parsing of match, and conditional replacements\n",
      "xreplace: exact node replacement in expr tree; also capable of\n",
      "          using matching rules\n",
      "evalf: calculates the given formula to a desired level of precision\n"
     ]
    }
   ],
   "source": [
    "np.info(expr01.subs)"
   ]
  },
  {
   "cell_type": "code",
   "execution_count": null,
   "metadata": {
    "collapsed": true
   },
   "outputs": [],
   "source": []
  }
 ],
 "metadata": {
  "kernelspec": {
   "display_name": "Python 2",
   "language": "python",
   "name": "python2"
  },
  "language_info": {
   "codemirror_mode": {
    "name": "ipython",
    "version": 2
   },
   "file_extension": ".py",
   "mimetype": "text/x-python",
   "name": "python",
   "nbconvert_exporter": "python",
   "pygments_lexer": "ipython2",
   "version": "2.7.13"
  }
 },
 "nbformat": 4,
 "nbformat_minor": 2
}
