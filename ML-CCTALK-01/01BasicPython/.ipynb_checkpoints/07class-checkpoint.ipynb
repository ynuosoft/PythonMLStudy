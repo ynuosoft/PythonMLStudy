{
 "cells": [
  {
   "cell_type": "markdown",
   "metadata": {},
   "source": [
    "# 面向对象:类"
   ]
  },
  {
   "cell_type": "markdown",
   "metadata": {},
   "source": [
    "## 1 定义类"
   ]
  },
  {
   "cell_type": "code",
   "execution_count": 56,
   "metadata": {
    "collapsed": true
   },
   "outputs": [],
   "source": [
    "\"\"\"\n",
    "圆参数实体\n",
    "\"\"\"\n",
    "class  round_entity:\n",
    "    center=(0,0)\n",
    "    radius=5,\n",
    "    dotnums=10\n",
    "\n",
    "    def __init__(self,center,radius,dotnums):\n",
    "        self.center=center\n",
    "        self.radius=radius\n",
    "        self.dotnums=dotnums\n",
    "    def __str__(self):\n",
    "        return \"round ‘圆’ \" +str(self.center) + str(self.radius) +str(self.dotnums)"
   ]
  },
  {
   "cell_type": "markdown",
   "metadata": {},
   "source": [
    "## 2 使用类"
   ]
  },
  {
   "cell_type": "code",
   "execution_count": 57,
   "metadata": {
    "collapsed": true
   },
   "outputs": [],
   "source": [
    "arr01=[round_entity(center=(0,0),radius=249,dotnums=500),round_entity(center=(-100,100),radius=170,dotnums=500),round_entity(center=(-100,-100),radius=170,dotnums=5000),\n",
    "      round_entity(center=(100,100),radius=170,dotnums=500),round_entity(center=(100,-100),radius=170,dotnums=500)]"
   ]
  },
  {
   "cell_type": "code",
   "execution_count": 58,
   "metadata": {},
   "outputs": [
    {
     "name": "stdout",
     "output_type": "stream",
     "text": [
      "round ‘圆’ (0, 0)249500\n",
      "round ‘圆’ (-100, 100)170500\n",
      "round ‘圆’ (-100, -100)1705000\n",
      "round ‘圆’ (100, 100)170500\n",
      "round ‘圆’ (100, -100)170500\n"
     ]
    }
   ],
   "source": [
    "for a in arr01:\n",
    "    print a"
   ]
  },
  {
   "cell_type": "code",
   "execution_count": 59,
   "metadata": {
    "collapsed": true
   },
   "outputs": [],
   "source": [
    "round_entity01=round_entity(center=(0,0),radius=249,dotnums=500)"
   ]
  },
  {
   "cell_type": "code",
   "execution_count": 60,
   "metadata": {},
   "outputs": [
    {
     "name": "stdout",
     "output_type": "stream",
     "text": [
      "round ‘圆’ (0, 0)249500\n"
     ]
    }
   ],
   "source": [
    "print round_entity01"
   ]
  },
  {
   "cell_type": "code",
   "execution_count": null,
   "metadata": {
    "collapsed": true
   },
   "outputs": [],
   "source": []
  }
 ],
 "metadata": {
  "kernelspec": {
   "display_name": "Python 2",
   "language": "python",
   "name": "python2"
  },
  "language_info": {
   "codemirror_mode": {
    "name": "ipython",
    "version": 2
   },
   "file_extension": ".py",
   "mimetype": "text/x-python",
   "name": "python",
   "nbconvert_exporter": "python",
   "pygments_lexer": "ipython2",
   "version": "2.7.13"
  }
 },
 "nbformat": 4,
 "nbformat_minor": 2
}
