{
 "cells": [
  {
   "cell_type": "markdown",
   "metadata": {},
   "source": [
    "# File文件IO操作介绍"
   ]
  },
  {
   "cell_type": "markdown",
   "metadata": {},
   "source": [
    "## 1 手动打开关闭文件 ：Open"
   ]
  },
  {
   "cell_type": "code",
   "execution_count": 5,
   "metadata": {
    "collapsed": true
   },
   "outputs": [],
   "source": [
    "import os"
   ]
  },
  {
   "cell_type": "code",
   "execution_count": 4,
   "metadata": {
    "scrolled": false
   },
   "outputs": [
    {
     "name": "stdout",
     "output_type": "stream",
     "text": [
      "文件名:  foo.txt\n",
      "是否已关闭 :  False\n",
      "访问模式 :  wb\n",
      "末尾是否强制加空格 :  0\n"
     ]
    }
   ],
   "source": [
    "# 打开一个文件\n",
    "fo = open(\"foo.txt\", \"wb\")\n",
    "#写入内容\n",
    "fo.writelines(\"11111111111111111111\")\n",
    "print \"文件名: \", fo.name\n",
    "print \"是否已关闭 : \", fo.closed\n",
    "print \"访问模式 : \", fo.mode\n",
    "print \"末尾是否强制加空格 : \", fo.softspace\n",
    "fo.close()"
   ]
  },
  {
   "cell_type": "markdown",
   "metadata": {},
   "source": [
    "## 2 基于with方式自动关闭文件"
   ]
  },
  {
   "cell_type": "code",
   "execution_count": 12,
   "metadata": {
    "collapsed": true
   },
   "outputs": [],
   "source": [
    "with open('foo_auto.txt','wb') as fo_auto01:\n",
    "    fo_auto01.write('aaaaaaaaaaaaa:bbbbbbbbbbb')"
   ]
  },
  {
   "cell_type": "code",
   "execution_count": null,
   "metadata": {
    "collapsed": true
   },
   "outputs": [],
   "source": []
  },
  {
   "cell_type": "markdown",
   "metadata": {},
   "source": [
    "## 3 帮助信息"
   ]
  },
  {
   "cell_type": "code",
   "execution_count": 9,
   "metadata": {
    "collapsed": true
   },
   "outputs": [],
   "source": [
    "import numpy as np"
   ]
  },
  {
   "cell_type": "code",
   "execution_count": 10,
   "metadata": {},
   "outputs": [
    {
     "name": "stdout",
     "output_type": "stream",
     "text": [
      "open(name[, mode[, buffering]]) -> file object\n",
      "\n",
      "Open a file using the file() type, returns a file object.  This is the\n",
      "preferred way to open a file.  See file.__doc__ for further information.\n"
     ]
    }
   ],
   "source": [
    "np.info(open)"
   ]
  },
  {
   "cell_type": "code",
   "execution_count": 8,
   "metadata": {},
   "outputs": [
    {
     "name": "stdout",
     "output_type": "stream",
     "text": [
      "OS routines for NT or Posix depending on what system we're on.\n",
      "\n",
      "This exports:\n",
      "  - all functions from posix, nt, os2, or ce, e.g. unlink, stat, etc.\n",
      "  - os.path is one of the modules posixpath, or ntpath\n",
      "  - os.name is 'posix', 'nt', 'os2', 'ce' or 'riscos'\n",
      "  - os.curdir is a string representing the current directory ('.' or ':')\n",
      "  - os.pardir is a string representing the parent directory ('..' or '::')\n",
      "  - os.sep is the (or a most common) pathname separator ('/' or ':' or '\\\\')\n",
      "  - os.extsep is the extension separator ('.' or '/')\n",
      "  - os.altsep is the alternate pathname separator (None or '/')\n",
      "  - os.pathsep is the component separator used in $PATH etc\n",
      "  - os.linesep is the line separator in text files ('\\r' or '\\n' or '\\r\\n')\n",
      "  - os.defpath is the default search path for executables\n",
      "  - os.devnull is the file path of the null device ('/dev/null', etc.)\n",
      "\n",
      "Programs that import and use 'os' stand a better chance of being\n",
      "portable between different platforms.  Of course, they must then\n",
      "only use functions that are defined by all platforms (e.g., unlink\n",
      "and opendir), and leave all pathname manipulation to os.path\n",
      "(e.g., split and join).\n"
     ]
    }
   ],
   "source": [
    "np.info(os)"
   ]
  }
 ],
 "metadata": {
  "kernelspec": {
   "display_name": "Python 2",
   "language": "python",
   "name": "python2"
  },
  "language_info": {
   "codemirror_mode": {
    "name": "ipython",
    "version": 2
   },
   "file_extension": ".py",
   "mimetype": "text/x-python",
   "name": "python",
   "nbconvert_exporter": "python",
   "pygments_lexer": "ipython2",
   "version": "2.7.13"
  }
 },
 "nbformat": 4,
 "nbformat_minor": 2
}
