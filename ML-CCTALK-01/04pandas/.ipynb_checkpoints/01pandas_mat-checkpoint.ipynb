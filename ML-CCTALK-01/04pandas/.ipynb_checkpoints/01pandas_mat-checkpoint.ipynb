{
 "cells": [
  {
   "cell_type": "markdown",
   "metadata": {},
   "source": [
    "# 数组矩阵：行列信息"
   ]
  },
  {
   "cell_type": "markdown",
   "metadata": {
    "collapsed": true
   },
   "source": [
    "## 1 引用"
   ]
  },
  {
   "cell_type": "code",
   "execution_count": 1,
   "metadata": {
    "collapsed": true
   },
   "outputs": [],
   "source": [
    "import pandas as pd\n",
    "import numpy as np"
   ]
  },
  {
   "cell_type": "code",
   "execution_count": 5,
   "metadata": {},
   "outputs": [
    {
     "data": {
      "text/plain": [
       "nan"
      ]
     },
     "execution_count": 5,
     "metadata": {},
     "output_type": "execute_result"
    }
   ],
   "source": [
    "np.nan"
   ]
  },
  {
   "cell_type": "markdown",
   "metadata": {},
   "source": [
    "## 2 序列 Series"
   ]
  },
  {
   "cell_type": "code",
   "execution_count": 2,
   "metadata": {},
   "outputs": [
    {
     "data": {
      "text/plain": [
       "0    1.0\n",
       "1    3.0\n",
       "2    5.0\n",
       "3    NaN\n",
       "4    6.0\n",
       "5    9.0\n",
       "dtype: float64"
      ]
     },
     "execution_count": 2,
     "metadata": {},
     "output_type": "execute_result"
    }
   ],
   "source": [
    "s01=pd.Series([1,3,5,np.nan,6,9])\n",
    "s01"
   ]
  },
  {
   "cell_type": "markdown",
   "metadata": {
    "collapsed": true
   },
   "source": [
    "## 3 时间范围"
   ]
  },
  {
   "cell_type": "code",
   "execution_count": 16,
   "metadata": {},
   "outputs": [
    {
     "data": {
      "text/plain": [
       "DatetimeIndex(['2016-08-18', '2016-08-19', '2016-08-20', '2016-08-21',\n",
       "               '2016-08-22', '2016-08-23', '2016-08-24', '2016-08-25',\n",
       "               '2016-08-26', '2016-08-27'],\n",
       "              dtype='datetime64[ns]', freq='D')"
      ]
     },
     "execution_count": 16,
     "metadata": {},
     "output_type": "execute_result"
    }
   ],
   "source": [
    "date01=pd.date_range(start=\"20160818\",periods=10)\n",
    "date01"
   ]
  },
  {
   "cell_type": "markdown",
   "metadata": {
    "collapsed": true
   },
   "source": [
    "## 4 DataFrame对象"
   ]
  },
  {
   "cell_type": "code",
   "execution_count": 20,
   "metadata": {},
   "outputs": [
    {
     "data": {
      "text/html": [
       "<div>\n",
       "<style>\n",
       "    .dataframe thead tr:only-child th {\n",
       "        text-align: right;\n",
       "    }\n",
       "\n",
       "    .dataframe thead th {\n",
       "        text-align: left;\n",
       "    }\n",
       "\n",
       "    .dataframe tbody tr th {\n",
       "        vertical-align: top;\n",
       "    }\n",
       "</style>\n",
       "<table border=\"1\" class=\"dataframe\">\n",
       "  <thead>\n",
       "    <tr style=\"text-align: right;\">\n",
       "      <th></th>\n",
       "      <th>A</th>\n",
       "      <th>B</th>\n",
       "      <th>C</th>\n",
       "      <th>D</th>\n",
       "      <th>E</th>\n",
       "      <th>F</th>\n",
       "    </tr>\n",
       "  </thead>\n",
       "  <tbody>\n",
       "    <tr>\n",
       "      <th>2016-08-18</th>\n",
       "      <td>-0.244261</td>\n",
       "      <td>-0.659964</td>\n",
       "      <td>-0.803129</td>\n",
       "      <td>0.375711</td>\n",
       "      <td>1.663186</td>\n",
       "      <td>-0.633984</td>\n",
       "    </tr>\n",
       "    <tr>\n",
       "      <th>2016-08-19</th>\n",
       "      <td>-0.599928</td>\n",
       "      <td>-0.319406</td>\n",
       "      <td>0.567199</td>\n",
       "      <td>-2.330388</td>\n",
       "      <td>0.883012</td>\n",
       "      <td>-0.198178</td>\n",
       "    </tr>\n",
       "    <tr>\n",
       "      <th>2016-08-20</th>\n",
       "      <td>2.026703</td>\n",
       "      <td>0.752887</td>\n",
       "      <td>-1.591276</td>\n",
       "      <td>-1.094253</td>\n",
       "      <td>0.324209</td>\n",
       "      <td>0.295673</td>\n",
       "    </tr>\n",
       "    <tr>\n",
       "      <th>2016-08-21</th>\n",
       "      <td>0.036035</td>\n",
       "      <td>0.232062</td>\n",
       "      <td>0.581130</td>\n",
       "      <td>-0.500515</td>\n",
       "      <td>-2.112790</td>\n",
       "      <td>-1.768483</td>\n",
       "    </tr>\n",
       "    <tr>\n",
       "      <th>2016-08-22</th>\n",
       "      <td>-0.722143</td>\n",
       "      <td>-0.812356</td>\n",
       "      <td>0.407740</td>\n",
       "      <td>0.443017</td>\n",
       "      <td>-1.026598</td>\n",
       "      <td>-0.051102</td>\n",
       "    </tr>\n",
       "    <tr>\n",
       "      <th>2016-08-23</th>\n",
       "      <td>0.621833</td>\n",
       "      <td>-0.422199</td>\n",
       "      <td>0.189628</td>\n",
       "      <td>-0.598335</td>\n",
       "      <td>0.059643</td>\n",
       "      <td>0.136458</td>\n",
       "    </tr>\n",
       "    <tr>\n",
       "      <th>2016-08-24</th>\n",
       "      <td>-0.623433</td>\n",
       "      <td>0.741158</td>\n",
       "      <td>0.460051</td>\n",
       "      <td>-0.567886</td>\n",
       "      <td>-0.348610</td>\n",
       "      <td>-1.071626</td>\n",
       "    </tr>\n",
       "    <tr>\n",
       "      <th>2016-08-25</th>\n",
       "      <td>-1.241214</td>\n",
       "      <td>-0.749104</td>\n",
       "      <td>0.841774</td>\n",
       "      <td>-0.267436</td>\n",
       "      <td>-0.326296</td>\n",
       "      <td>-0.819834</td>\n",
       "    </tr>\n",
       "    <tr>\n",
       "      <th>2016-08-26</th>\n",
       "      <td>1.804951</td>\n",
       "      <td>-1.462064</td>\n",
       "      <td>0.160139</td>\n",
       "      <td>-1.006510</td>\n",
       "      <td>-0.005313</td>\n",
       "      <td>-1.287751</td>\n",
       "    </tr>\n",
       "    <tr>\n",
       "      <th>2016-08-27</th>\n",
       "      <td>-2.066398</td>\n",
       "      <td>1.441313</td>\n",
       "      <td>0.556940</td>\n",
       "      <td>-0.027242</td>\n",
       "      <td>-0.655524</td>\n",
       "      <td>-1.176466</td>\n",
       "    </tr>\n",
       "  </tbody>\n",
       "</table>\n",
       "</div>"
      ],
      "text/plain": [
       "                   A         B         C         D         E         F\n",
       "2016-08-18 -0.244261 -0.659964 -0.803129  0.375711  1.663186 -0.633984\n",
       "2016-08-19 -0.599928 -0.319406  0.567199 -2.330388  0.883012 -0.198178\n",
       "2016-08-20  2.026703  0.752887 -1.591276 -1.094253  0.324209  0.295673\n",
       "2016-08-21  0.036035  0.232062  0.581130 -0.500515 -2.112790 -1.768483\n",
       "2016-08-22 -0.722143 -0.812356  0.407740  0.443017 -1.026598 -0.051102\n",
       "2016-08-23  0.621833 -0.422199  0.189628 -0.598335  0.059643  0.136458\n",
       "2016-08-24 -0.623433  0.741158  0.460051 -0.567886 -0.348610 -1.071626\n",
       "2016-08-25 -1.241214 -0.749104  0.841774 -0.267436 -0.326296 -0.819834\n",
       "2016-08-26  1.804951 -1.462064  0.160139 -1.006510 -0.005313 -1.287751\n",
       "2016-08-27 -2.066398  1.441313  0.556940 -0.027242 -0.655524 -1.176466"
      ]
     },
     "execution_count": 20,
     "metadata": {},
     "output_type": "execute_result"
    }
   ],
   "source": [
    "df01 = pd.DataFrame(np.random.randn(10,6), index=date01, columns=list('ABCDEF'))\n",
    "df01"
   ]
  },
  {
   "cell_type": "markdown",
   "metadata": {},
   "source": [
    "### 4.1 DataFrame对象部分属性"
   ]
  },
  {
   "cell_type": "code",
   "execution_count": 25,
   "metadata": {},
   "outputs": [
    {
     "data": {
      "text/html": [
       "<div>\n",
       "<style>\n",
       "    .dataframe thead tr:only-child th {\n",
       "        text-align: right;\n",
       "    }\n",
       "\n",
       "    .dataframe thead th {\n",
       "        text-align: left;\n",
       "    }\n",
       "\n",
       "    .dataframe tbody tr th {\n",
       "        vertical-align: top;\n",
       "    }\n",
       "</style>\n",
       "<table border=\"1\" class=\"dataframe\">\n",
       "  <thead>\n",
       "    <tr style=\"text-align: right;\">\n",
       "      <th></th>\n",
       "      <th>A</th>\n",
       "      <th>B</th>\n",
       "      <th>C</th>\n",
       "      <th>D</th>\n",
       "      <th>E</th>\n",
       "      <th>F</th>\n",
       "    </tr>\n",
       "  </thead>\n",
       "  <tbody>\n",
       "    <tr>\n",
       "      <th>2016-08-18</th>\n",
       "      <td>-0.244261</td>\n",
       "      <td>-0.659964</td>\n",
       "      <td>-0.803129</td>\n",
       "      <td>0.375711</td>\n",
       "      <td>1.663186</td>\n",
       "      <td>-0.633984</td>\n",
       "    </tr>\n",
       "    <tr>\n",
       "      <th>2016-08-19</th>\n",
       "      <td>-0.599928</td>\n",
       "      <td>-0.319406</td>\n",
       "      <td>0.567199</td>\n",
       "      <td>-2.330388</td>\n",
       "      <td>0.883012</td>\n",
       "      <td>-0.198178</td>\n",
       "    </tr>\n",
       "  </tbody>\n",
       "</table>\n",
       "</div>"
      ],
      "text/plain": [
       "                   A         B         C         D         E         F\n",
       "2016-08-18 -0.244261 -0.659964 -0.803129  0.375711  1.663186 -0.633984\n",
       "2016-08-19 -0.599928 -0.319406  0.567199 -2.330388  0.883012 -0.198178"
      ]
     },
     "execution_count": 25,
     "metadata": {},
     "output_type": "execute_result"
    }
   ],
   "source": [
    "df01.head(2)"
   ]
  },
  {
   "cell_type": "code",
   "execution_count": 26,
   "metadata": {},
   "outputs": [
    {
     "data": {
      "text/html": [
       "<div>\n",
       "<style>\n",
       "    .dataframe thead tr:only-child th {\n",
       "        text-align: right;\n",
       "    }\n",
       "\n",
       "    .dataframe thead th {\n",
       "        text-align: left;\n",
       "    }\n",
       "\n",
       "    .dataframe tbody tr th {\n",
       "        vertical-align: top;\n",
       "    }\n",
       "</style>\n",
       "<table border=\"1\" class=\"dataframe\">\n",
       "  <thead>\n",
       "    <tr style=\"text-align: right;\">\n",
       "      <th></th>\n",
       "      <th>A</th>\n",
       "      <th>B</th>\n",
       "      <th>C</th>\n",
       "      <th>D</th>\n",
       "      <th>E</th>\n",
       "      <th>F</th>\n",
       "    </tr>\n",
       "  </thead>\n",
       "  <tbody>\n",
       "    <tr>\n",
       "      <th>2016-08-26</th>\n",
       "      <td>1.804951</td>\n",
       "      <td>-1.462064</td>\n",
       "      <td>0.160139</td>\n",
       "      <td>-1.006510</td>\n",
       "      <td>-0.005313</td>\n",
       "      <td>-1.287751</td>\n",
       "    </tr>\n",
       "    <tr>\n",
       "      <th>2016-08-27</th>\n",
       "      <td>-2.066398</td>\n",
       "      <td>1.441313</td>\n",
       "      <td>0.556940</td>\n",
       "      <td>-0.027242</td>\n",
       "      <td>-0.655524</td>\n",
       "      <td>-1.176466</td>\n",
       "    </tr>\n",
       "  </tbody>\n",
       "</table>\n",
       "</div>"
      ],
      "text/plain": [
       "                   A         B         C         D         E         F\n",
       "2016-08-26  1.804951 -1.462064  0.160139 -1.006510 -0.005313 -1.287751\n",
       "2016-08-27 -2.066398  1.441313  0.556940 -0.027242 -0.655524 -1.176466"
      ]
     },
     "execution_count": 26,
     "metadata": {},
     "output_type": "execute_result"
    }
   ],
   "source": [
    "df01.tail(2)"
   ]
  },
  {
   "cell_type": "code",
   "execution_count": 27,
   "metadata": {},
   "outputs": [
    {
     "data": {
      "text/plain": [
       "[DatetimeIndex(['2016-08-18', '2016-08-19', '2016-08-20', '2016-08-21',\n",
       "                '2016-08-22', '2016-08-23', '2016-08-24', '2016-08-25',\n",
       "                '2016-08-26', '2016-08-27'],\n",
       "               dtype='datetime64[ns]', freq='D'),\n",
       " Index([u'A', u'B', u'C', u'D', u'E', u'F'], dtype='object')]"
      ]
     },
     "execution_count": 27,
     "metadata": {},
     "output_type": "execute_result"
    }
   ],
   "source": [
    "df01.axes"
   ]
  },
  {
   "cell_type": "code",
   "execution_count": 28,
   "metadata": {},
   "outputs": [
    {
     "data": {
      "text/plain": [
       "DatetimeIndex(['2016-08-18', '2016-08-19', '2016-08-20', '2016-08-21',\n",
       "               '2016-08-22', '2016-08-23', '2016-08-24', '2016-08-25',\n",
       "               '2016-08-26', '2016-08-27'],\n",
       "              dtype='datetime64[ns]', freq='D')"
      ]
     },
     "execution_count": 28,
     "metadata": {},
     "output_type": "execute_result"
    }
   ],
   "source": [
    "df01.index"
   ]
  },
  {
   "cell_type": "code",
   "execution_count": 29,
   "metadata": {},
   "outputs": [
    {
     "data": {
      "text/plain": [
       "Index([u'A', u'B', u'C', u'D', u'E', u'F'], dtype='object')"
      ]
     },
     "execution_count": 29,
     "metadata": {},
     "output_type": "execute_result"
    }
   ],
   "source": [
    "df01.columns"
   ]
  },
  {
   "cell_type": "code",
   "execution_count": 31,
   "metadata": {},
   "outputs": [
    {
     "data": {
      "text/html": [
       "<div>\n",
       "<style>\n",
       "    .dataframe thead tr:only-child th {\n",
       "        text-align: right;\n",
       "    }\n",
       "\n",
       "    .dataframe thead th {\n",
       "        text-align: left;\n",
       "    }\n",
       "\n",
       "    .dataframe tbody tr th {\n",
       "        vertical-align: top;\n",
       "    }\n",
       "</style>\n",
       "<table border=\"1\" class=\"dataframe\">\n",
       "  <thead>\n",
       "    <tr style=\"text-align: right;\">\n",
       "      <th></th>\n",
       "      <th>A</th>\n",
       "      <th>B</th>\n",
       "      <th>C</th>\n",
       "      <th>D</th>\n",
       "      <th>E</th>\n",
       "      <th>F</th>\n",
       "    </tr>\n",
       "  </thead>\n",
       "  <tbody>\n",
       "    <tr>\n",
       "      <th>count</th>\n",
       "      <td>10.000000</td>\n",
       "      <td>10.000000</td>\n",
       "      <td>10.000000</td>\n",
       "      <td>10.000000</td>\n",
       "      <td>10.000000</td>\n",
       "      <td>10.000000</td>\n",
       "    </tr>\n",
       "    <tr>\n",
       "      <th>mean</th>\n",
       "      <td>-0.100786</td>\n",
       "      <td>-0.125767</td>\n",
       "      <td>0.137020</td>\n",
       "      <td>-0.557384</td>\n",
       "      <td>-0.154508</td>\n",
       "      <td>-0.657529</td>\n",
       "    </tr>\n",
       "    <tr>\n",
       "      <th>std</th>\n",
       "      <td>1.282017</td>\n",
       "      <td>0.892173</td>\n",
       "      <td>0.753298</td>\n",
       "      <td>0.807953</td>\n",
       "      <td>1.032331</td>\n",
       "      <td>0.684498</td>\n",
       "    </tr>\n",
       "    <tr>\n",
       "      <th>min</th>\n",
       "      <td>-2.066398</td>\n",
       "      <td>-1.462064</td>\n",
       "      <td>-1.591276</td>\n",
       "      <td>-2.330388</td>\n",
       "      <td>-2.112790</td>\n",
       "      <td>-1.768483</td>\n",
       "    </tr>\n",
       "    <tr>\n",
       "      <th>25%</th>\n",
       "      <td>-0.697466</td>\n",
       "      <td>-0.726819</td>\n",
       "      <td>0.167511</td>\n",
       "      <td>-0.904467</td>\n",
       "      <td>-0.578795</td>\n",
       "      <td>-1.150256</td>\n",
       "    </tr>\n",
       "    <tr>\n",
       "      <th>50%</th>\n",
       "      <td>-0.422095</td>\n",
       "      <td>-0.370802</td>\n",
       "      <td>0.433895</td>\n",
       "      <td>-0.534200</td>\n",
       "      <td>-0.165805</td>\n",
       "      <td>-0.726909</td>\n",
       "    </tr>\n",
       "    <tr>\n",
       "      <th>75%</th>\n",
       "      <td>0.475383</td>\n",
       "      <td>0.613884</td>\n",
       "      <td>0.564634</td>\n",
       "      <td>-0.087291</td>\n",
       "      <td>0.258067</td>\n",
       "      <td>-0.087871</td>\n",
       "    </tr>\n",
       "    <tr>\n",
       "      <th>max</th>\n",
       "      <td>2.026703</td>\n",
       "      <td>1.441313</td>\n",
       "      <td>0.841774</td>\n",
       "      <td>0.443017</td>\n",
       "      <td>1.663186</td>\n",
       "      <td>0.295673</td>\n",
       "    </tr>\n",
       "  </tbody>\n",
       "</table>\n",
       "</div>"
      ],
      "text/plain": [
       "               A          B          C          D          E          F\n",
       "count  10.000000  10.000000  10.000000  10.000000  10.000000  10.000000\n",
       "mean   -0.100786  -0.125767   0.137020  -0.557384  -0.154508  -0.657529\n",
       "std     1.282017   0.892173   0.753298   0.807953   1.032331   0.684498\n",
       "min    -2.066398  -1.462064  -1.591276  -2.330388  -2.112790  -1.768483\n",
       "25%    -0.697466  -0.726819   0.167511  -0.904467  -0.578795  -1.150256\n",
       "50%    -0.422095  -0.370802   0.433895  -0.534200  -0.165805  -0.726909\n",
       "75%     0.475383   0.613884   0.564634  -0.087291   0.258067  -0.087871\n",
       "max     2.026703   1.441313   0.841774   0.443017   1.663186   0.295673"
      ]
     },
     "execution_count": 31,
     "metadata": {},
     "output_type": "execute_result"
    }
   ],
   "source": [
    "df01.describe()"
   ]
  },
  {
   "cell_type": "code",
   "execution_count": 32,
   "metadata": {},
   "outputs": [
    {
     "data": {
      "text/html": [
       "<div>\n",
       "<style>\n",
       "    .dataframe thead tr:only-child th {\n",
       "        text-align: right;\n",
       "    }\n",
       "\n",
       "    .dataframe thead th {\n",
       "        text-align: left;\n",
       "    }\n",
       "\n",
       "    .dataframe tbody tr th {\n",
       "        vertical-align: top;\n",
       "    }\n",
       "</style>\n",
       "<table border=\"1\" class=\"dataframe\">\n",
       "  <thead>\n",
       "    <tr style=\"text-align: right;\">\n",
       "      <th></th>\n",
       "      <th>2016-08-18 00:00:00</th>\n",
       "      <th>2016-08-19 00:00:00</th>\n",
       "      <th>2016-08-20 00:00:00</th>\n",
       "      <th>2016-08-21 00:00:00</th>\n",
       "      <th>2016-08-22 00:00:00</th>\n",
       "      <th>2016-08-23 00:00:00</th>\n",
       "      <th>2016-08-24 00:00:00</th>\n",
       "      <th>2016-08-25 00:00:00</th>\n",
       "      <th>2016-08-26 00:00:00</th>\n",
       "      <th>2016-08-27 00:00:00</th>\n",
       "    </tr>\n",
       "  </thead>\n",
       "  <tbody>\n",
       "    <tr>\n",
       "      <th>A</th>\n",
       "      <td>-0.244261</td>\n",
       "      <td>-0.599928</td>\n",
       "      <td>2.026703</td>\n",
       "      <td>0.036035</td>\n",
       "      <td>-0.722143</td>\n",
       "      <td>0.621833</td>\n",
       "      <td>-0.623433</td>\n",
       "      <td>-1.241214</td>\n",
       "      <td>1.804951</td>\n",
       "      <td>-2.066398</td>\n",
       "    </tr>\n",
       "    <tr>\n",
       "      <th>B</th>\n",
       "      <td>-0.659964</td>\n",
       "      <td>-0.319406</td>\n",
       "      <td>0.752887</td>\n",
       "      <td>0.232062</td>\n",
       "      <td>-0.812356</td>\n",
       "      <td>-0.422199</td>\n",
       "      <td>0.741158</td>\n",
       "      <td>-0.749104</td>\n",
       "      <td>-1.462064</td>\n",
       "      <td>1.441313</td>\n",
       "    </tr>\n",
       "    <tr>\n",
       "      <th>C</th>\n",
       "      <td>-0.803129</td>\n",
       "      <td>0.567199</td>\n",
       "      <td>-1.591276</td>\n",
       "      <td>0.581130</td>\n",
       "      <td>0.407740</td>\n",
       "      <td>0.189628</td>\n",
       "      <td>0.460051</td>\n",
       "      <td>0.841774</td>\n",
       "      <td>0.160139</td>\n",
       "      <td>0.556940</td>\n",
       "    </tr>\n",
       "    <tr>\n",
       "      <th>D</th>\n",
       "      <td>0.375711</td>\n",
       "      <td>-2.330388</td>\n",
       "      <td>-1.094253</td>\n",
       "      <td>-0.500515</td>\n",
       "      <td>0.443017</td>\n",
       "      <td>-0.598335</td>\n",
       "      <td>-0.567886</td>\n",
       "      <td>-0.267436</td>\n",
       "      <td>-1.006510</td>\n",
       "      <td>-0.027242</td>\n",
       "    </tr>\n",
       "    <tr>\n",
       "      <th>E</th>\n",
       "      <td>1.663186</td>\n",
       "      <td>0.883012</td>\n",
       "      <td>0.324209</td>\n",
       "      <td>-2.112790</td>\n",
       "      <td>-1.026598</td>\n",
       "      <td>0.059643</td>\n",
       "      <td>-0.348610</td>\n",
       "      <td>-0.326296</td>\n",
       "      <td>-0.005313</td>\n",
       "      <td>-0.655524</td>\n",
       "    </tr>\n",
       "    <tr>\n",
       "      <th>F</th>\n",
       "      <td>-0.633984</td>\n",
       "      <td>-0.198178</td>\n",
       "      <td>0.295673</td>\n",
       "      <td>-1.768483</td>\n",
       "      <td>-0.051102</td>\n",
       "      <td>0.136458</td>\n",
       "      <td>-1.071626</td>\n",
       "      <td>-0.819834</td>\n",
       "      <td>-1.287751</td>\n",
       "      <td>-1.176466</td>\n",
       "    </tr>\n",
       "  </tbody>\n",
       "</table>\n",
       "</div>"
      ],
      "text/plain": [
       "   2016-08-18  2016-08-19  2016-08-20  2016-08-21  2016-08-22  2016-08-23  \\\n",
       "A   -0.244261   -0.599928    2.026703    0.036035   -0.722143    0.621833   \n",
       "B   -0.659964   -0.319406    0.752887    0.232062   -0.812356   -0.422199   \n",
       "C   -0.803129    0.567199   -1.591276    0.581130    0.407740    0.189628   \n",
       "D    0.375711   -2.330388   -1.094253   -0.500515    0.443017   -0.598335   \n",
       "E    1.663186    0.883012    0.324209   -2.112790   -1.026598    0.059643   \n",
       "F   -0.633984   -0.198178    0.295673   -1.768483   -0.051102    0.136458   \n",
       "\n",
       "   2016-08-24  2016-08-25  2016-08-26  2016-08-27  \n",
       "A   -0.623433   -1.241214    1.804951   -2.066398  \n",
       "B    0.741158   -0.749104   -1.462064    1.441313  \n",
       "C    0.460051    0.841774    0.160139    0.556940  \n",
       "D   -0.567886   -0.267436   -1.006510   -0.027242  \n",
       "E   -0.348610   -0.326296   -0.005313   -0.655524  \n",
       "F   -1.071626   -0.819834   -1.287751   -1.176466  "
      ]
     },
     "execution_count": 32,
     "metadata": {},
     "output_type": "execute_result"
    }
   ],
   "source": [
    "df01.T"
   ]
  },
  {
   "cell_type": "markdown",
   "metadata": {
    "collapsed": true
   },
   "source": [
    "## 5数据查询"
   ]
  },
  {
   "cell_type": "code",
   "execution_count": 37,
   "metadata": {},
   "outputs": [
    {
     "data": {
      "text/plain": [
       "2016-08-18   -0.803129\n",
       "2016-08-19    0.567199\n",
       "2016-08-20   -1.591276\n",
       "2016-08-21    0.581130\n",
       "2016-08-22    0.407740\n",
       "2016-08-23    0.189628\n",
       "2016-08-24    0.460051\n",
       "2016-08-25    0.841774\n",
       "2016-08-26    0.160139\n",
       "2016-08-27    0.556940\n",
       "Freq: D, Name: C, dtype: float64"
      ]
     },
     "execution_count": 37,
     "metadata": {},
     "output_type": "execute_result"
    }
   ],
   "source": [
    "#列式\n",
    "df01[\"C\"]"
   ]
  },
  {
   "cell_type": "code",
   "execution_count": 43,
   "metadata": {},
   "outputs": [
    {
     "data": {
      "text/html": [
       "<div>\n",
       "<style>\n",
       "    .dataframe thead tr:only-child th {\n",
       "        text-align: right;\n",
       "    }\n",
       "\n",
       "    .dataframe thead th {\n",
       "        text-align: left;\n",
       "    }\n",
       "\n",
       "    .dataframe tbody tr th {\n",
       "        vertical-align: top;\n",
       "    }\n",
       "</style>\n",
       "<table border=\"1\" class=\"dataframe\">\n",
       "  <thead>\n",
       "    <tr style=\"text-align: right;\">\n",
       "      <th></th>\n",
       "      <th>A</th>\n",
       "      <th>B</th>\n",
       "      <th>C</th>\n",
       "      <th>D</th>\n",
       "      <th>E</th>\n",
       "      <th>F</th>\n",
       "    </tr>\n",
       "  </thead>\n",
       "  <tbody>\n",
       "    <tr>\n",
       "      <th>2016-08-22</th>\n",
       "      <td>-0.722143</td>\n",
       "      <td>-0.812356</td>\n",
       "      <td>0.407740</td>\n",
       "      <td>0.443017</td>\n",
       "      <td>-1.026598</td>\n",
       "      <td>-0.051102</td>\n",
       "    </tr>\n",
       "    <tr>\n",
       "      <th>2016-08-23</th>\n",
       "      <td>0.621833</td>\n",
       "      <td>-0.422199</td>\n",
       "      <td>0.189628</td>\n",
       "      <td>-0.598335</td>\n",
       "      <td>0.059643</td>\n",
       "      <td>0.136458</td>\n",
       "    </tr>\n",
       "    <tr>\n",
       "      <th>2016-08-24</th>\n",
       "      <td>-0.623433</td>\n",
       "      <td>0.741158</td>\n",
       "      <td>0.460051</td>\n",
       "      <td>-0.567886</td>\n",
       "      <td>-0.348610</td>\n",
       "      <td>-1.071626</td>\n",
       "    </tr>\n",
       "    <tr>\n",
       "      <th>2016-08-25</th>\n",
       "      <td>-1.241214</td>\n",
       "      <td>-0.749104</td>\n",
       "      <td>0.841774</td>\n",
       "      <td>-0.267436</td>\n",
       "      <td>-0.326296</td>\n",
       "      <td>-0.819834</td>\n",
       "    </tr>\n",
       "  </tbody>\n",
       "</table>\n",
       "</div>"
      ],
      "text/plain": [
       "                   A         B         C         D         E         F\n",
       "2016-08-22 -0.722143 -0.812356  0.407740  0.443017 -1.026598 -0.051102\n",
       "2016-08-23  0.621833 -0.422199  0.189628 -0.598335  0.059643  0.136458\n",
       "2016-08-24 -0.623433  0.741158  0.460051 -0.567886 -0.348610 -1.071626\n",
       "2016-08-25 -1.241214 -0.749104  0.841774 -0.267436 -0.326296 -0.819834"
      ]
     },
     "execution_count": 43,
     "metadata": {},
     "output_type": "execute_result"
    }
   ],
   "source": [
    "df01['20160822':\"20160825\"]"
   ]
  },
  {
   "cell_type": "code",
   "execution_count": 46,
   "metadata": {},
   "outputs": [
    {
     "data": {
      "text/html": [
       "<div>\n",
       "<style>\n",
       "    .dataframe thead tr:only-child th {\n",
       "        text-align: right;\n",
       "    }\n",
       "\n",
       "    .dataframe thead th {\n",
       "        text-align: left;\n",
       "    }\n",
       "\n",
       "    .dataframe tbody tr th {\n",
       "        vertical-align: top;\n",
       "    }\n",
       "</style>\n",
       "<table border=\"1\" class=\"dataframe\">\n",
       "  <thead>\n",
       "    <tr style=\"text-align: right;\">\n",
       "      <th></th>\n",
       "      <th>A</th>\n",
       "      <th>B</th>\n",
       "      <th>C</th>\n",
       "      <th>D</th>\n",
       "      <th>E</th>\n",
       "      <th>F</th>\n",
       "    </tr>\n",
       "  </thead>\n",
       "  <tbody>\n",
       "    <tr>\n",
       "      <th>2016-08-22</th>\n",
       "      <td>-0.722143</td>\n",
       "      <td>-0.812356</td>\n",
       "      <td>0.407740</td>\n",
       "      <td>0.443017</td>\n",
       "      <td>-1.026598</td>\n",
       "      <td>-0.051102</td>\n",
       "    </tr>\n",
       "    <tr>\n",
       "      <th>2016-08-23</th>\n",
       "      <td>0.621833</td>\n",
       "      <td>-0.422199</td>\n",
       "      <td>0.189628</td>\n",
       "      <td>-0.598335</td>\n",
       "      <td>0.059643</td>\n",
       "      <td>0.136458</td>\n",
       "    </tr>\n",
       "    <tr>\n",
       "      <th>2016-08-24</th>\n",
       "      <td>-0.623433</td>\n",
       "      <td>0.741158</td>\n",
       "      <td>0.460051</td>\n",
       "      <td>-0.567886</td>\n",
       "      <td>-0.348610</td>\n",
       "      <td>-1.071626</td>\n",
       "    </tr>\n",
       "    <tr>\n",
       "      <th>2016-08-25</th>\n",
       "      <td>-1.241214</td>\n",
       "      <td>-0.749104</td>\n",
       "      <td>0.841774</td>\n",
       "      <td>-0.267436</td>\n",
       "      <td>-0.326296</td>\n",
       "      <td>-0.819834</td>\n",
       "    </tr>\n",
       "  </tbody>\n",
       "</table>\n",
       "</div>"
      ],
      "text/plain": [
       "                   A         B         C         D         E         F\n",
       "2016-08-22 -0.722143 -0.812356  0.407740  0.443017 -1.026598 -0.051102\n",
       "2016-08-23  0.621833 -0.422199  0.189628 -0.598335  0.059643  0.136458\n",
       "2016-08-24 -0.623433  0.741158  0.460051 -0.567886 -0.348610 -1.071626\n",
       "2016-08-25 -1.241214 -0.749104  0.841774 -0.267436 -0.326296 -0.819834"
      ]
     },
     "execution_count": 46,
     "metadata": {},
     "output_type": "execute_result"
    }
   ],
   "source": [
    "df01[4:8]"
   ]
  },
  {
   "cell_type": "markdown",
   "metadata": {
    "collapsed": true
   },
   "source": [
    "### 5.1 数据写入到本地文件夹 csv、json"
   ]
  },
  {
   "cell_type": "code",
   "execution_count": 47,
   "metadata": {
    "collapsed": true
   },
   "outputs": [],
   "source": [
    "df01.to_csv(\"abcdef.csv\")"
   ]
  },
  {
   "cell_type": "code",
   "execution_count": 58,
   "metadata": {
    "collapsed": true
   },
   "outputs": [],
   "source": [
    "df01.to_json(\"abcdef00_values.json\",orient=\"values\", date_format=\"iso\")"
   ]
  },
  {
   "cell_type": "code",
   "execution_count": 59,
   "metadata": {
    "collapsed": true
   },
   "outputs": [],
   "source": [
    "df01.to_json(\"abcdef01_index.json\",orient=\"index\",date_format=\"iso\")"
   ]
  },
  {
   "cell_type": "code",
   "execution_count": 60,
   "metadata": {
    "collapsed": true
   },
   "outputs": [],
   "source": [
    "df01.to_json(\"abcdef02_columns.json\",orient=\"columns\",date_format=\"iso\")"
   ]
  },
  {
   "cell_type": "code",
   "execution_count": 61,
   "metadata": {
    "collapsed": true
   },
   "outputs": [],
   "source": [
    "df01.to_json(\"abcdef03_split.json\",orient=\"split\",date_format=\"iso\")"
   ]
  },
  {
   "cell_type": "code",
   "execution_count": 62,
   "metadata": {
    "collapsed": true
   },
   "outputs": [],
   "source": [
    "df01.to_json(\"abcdef04_record.json\",orient=\"records\",date_format=\"iso\")"
   ]
  },
  {
   "cell_type": "code",
   "execution_count": 63,
   "metadata": {
    "collapsed": true
   },
   "outputs": [],
   "source": [
    "df01.to_excel(\"abcdef.xlsx\")"
   ]
  },
  {
   "cell_type": "code",
   "execution_count": 64,
   "metadata": {
    "collapsed": true
   },
   "outputs": [],
   "source": [
    "df01.to_pickle(\"abcdef.pkl\")"
   ]
  },
  {
   "cell_type": "code",
   "execution_count": null,
   "metadata": {
    "collapsed": true
   },
   "outputs": [],
   "source": []
  }
 ],
 "metadata": {
  "kernelspec": {
   "display_name": "Python 2",
   "language": "python",
   "name": "python2"
  },
  "language_info": {
   "codemirror_mode": {
    "name": "ipython",
    "version": 2
   },
   "file_extension": ".py",
   "mimetype": "text/x-python",
   "name": "python",
   "nbconvert_exporter": "python",
   "pygments_lexer": "ipython2",
   "version": "2.7.13"
  }
 },
 "nbformat": 4,
 "nbformat_minor": 2
}
