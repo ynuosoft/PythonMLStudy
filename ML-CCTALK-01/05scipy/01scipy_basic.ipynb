{
 "cells": [
  {
   "cell_type": "markdown",
   "metadata": {},
   "source": [
    "# 基本函数"
   ]
  },
  {
   "cell_type": "markdown",
   "metadata": {},
   "source": [
    "## 1 引用"
   ]
  },
  {
   "cell_type": "code",
   "execution_count": 1,
   "metadata": {
    "collapsed": true
   },
   "outputs": [],
   "source": [
    "import scipy.linalg as ln\n",
    "import numpy as np"
   ]
  },
  {
   "cell_type": "markdown",
   "metadata": {},
   "source": [
    "# 2 使用函数"
   ]
  },
  {
   "cell_type": "code",
   "execution_count": 2,
   "metadata": {
    "collapsed": true
   },
   "outputs": [],
   "source": [
    "a01 = np.arange(9) - 4.0"
   ]
  },
  {
   "cell_type": "code",
   "execution_count": 3,
   "metadata": {},
   "outputs": [
    {
     "data": {
      "text/plain": [
       "array([-4., -3., -2., -1.,  0.,  1.,  2.,  3.,  4.])"
      ]
     },
     "execution_count": 3,
     "metadata": {},
     "output_type": "execute_result"
    }
   ],
   "source": [
    "a01"
   ]
  },
  {
   "cell_type": "code",
   "execution_count": 4,
   "metadata": {
    "collapsed": true
   },
   "outputs": [],
   "source": [
    "a02=a01.reshape(3,3)"
   ]
  },
  {
   "cell_type": "code",
   "execution_count": 5,
   "metadata": {},
   "outputs": [
    {
     "data": {
      "text/plain": [
       "array([[-4., -3., -2.],\n",
       "       [-1.,  0.,  1.],\n",
       "       [ 2.,  3.,  4.]])"
      ]
     },
     "execution_count": 5,
     "metadata": {},
     "output_type": "execute_result"
    }
   ],
   "source": [
    "a02"
   ]
  },
  {
   "cell_type": "markdown",
   "metadata": {},
   "source": [
    "### 2.1最大奇异值norm函数 "
   ]
  },
  {
   "cell_type": "code",
   "execution_count": 6,
   "metadata": {},
   "outputs": [
    {
     "data": {
      "text/plain": [
       "7.745966692414834"
      ]
     },
     "execution_count": 6,
     "metadata": {},
     "output_type": "execute_result"
    }
   ],
   "source": [
    "ln.norm(a02)"
   ]
  },
  {
   "cell_type": "markdown",
   "metadata": {},
   "source": [
    "### 2.2 计算矩阵的正弦值"
   ]
  },
  {
   "cell_type": "code",
   "execution_count": 9,
   "metadata": {},
   "outputs": [
    {
     "data": {
      "text/plain": [
       "array([[  8.40686092e-01,   6.30514569e-01,   4.20343046e-01],\n",
       "       [  2.10171523e-01,   1.66533454e-16,  -2.10171523e-01],\n",
       "       [ -4.20343046e-01,  -6.30514569e-01,  -8.40686092e-01]])"
      ]
     },
     "execution_count": 9,
     "metadata": {},
     "output_type": "execute_result"
    }
   ],
   "source": [
    "ln.sinm(a02)"
   ]
  },
  {
   "cell_type": "code",
   "execution_count": 7,
   "metadata": {},
   "outputs": [
    {
     "name": "stdout",
     "output_type": "stream",
     "text": [
      " norm(a, ord=None, axis=None, keepdims=False)\n",
      "\n",
      "Matrix or vector norm.\n",
      "\n",
      "This function is able to return one of seven different matrix norms,\n",
      "or one of an infinite number of vector norms (described below), depending\n",
      "on the value of the ``ord`` parameter.\n",
      "\n",
      "Parameters\n",
      "----------\n",
      "a : (M,) or (M, N) array_like\n",
      "    Input array.  If `axis` is None, `a` must be 1-D or 2-D.\n",
      "ord : {non-zero int, inf, -inf, 'fro'}, optional\n",
      "    Order of the norm (see table under ``Notes``). inf means numpy's\n",
      "    `inf` object\n",
      "axis : {int, 2-tuple of ints, None}, optional\n",
      "    If `axis` is an integer, it specifies the axis of `a` along which to\n",
      "    compute the vector norms.  If `axis` is a 2-tuple, it specifies the\n",
      "    axes that hold 2-D matrices, and the matrix norms of these matrices\n",
      "    are computed.  If `axis` is None then either a vector norm (when `a`\n",
      "    is 1-D) or a matrix norm (when `a` is 2-D) is returned.\n",
      "keepdims : bool, optional\n",
      "    If this is set to True, the axes which are normed over are left in the\n",
      "    result as dimensions with size one.  With this option the result will\n",
      "    broadcast correctly against the original `a`.\n",
      "\n",
      "Returns\n",
      "-------\n",
      "n : float or ndarray\n",
      "    Norm of the matrix or vector(s).\n",
      "\n",
      "Notes\n",
      "-----\n",
      "For values of ``ord <= 0``, the result is, strictly speaking, not a\n",
      "mathematical 'norm', but it may still be useful for various numerical\n",
      "purposes.\n",
      "\n",
      "The following norms can be calculated:\n",
      "\n",
      "=====  ============================  ==========================\n",
      "ord    norm for matrices             norm for vectors\n",
      "=====  ============================  ==========================\n",
      "None   Frobenius norm                2-norm\n",
      "'fro'  Frobenius norm                --\n",
      "inf    max(sum(abs(x), axis=1))      max(abs(x))\n",
      "-inf   min(sum(abs(x), axis=1))      min(abs(x))\n",
      "0      --                            sum(x != 0)\n",
      "1      max(sum(abs(x), axis=0))      as below\n",
      "-1     min(sum(abs(x), axis=0))      as below\n",
      "2      2-norm (largest sing. value)  as below\n",
      "-2     smallest singular value       as below\n",
      "other  --                            sum(abs(x)**ord)**(1./ord)\n",
      "=====  ============================  ==========================\n",
      "\n",
      "The Frobenius norm is given by [1]_:\n",
      "\n",
      "    :math:`||A||_F = [\\sum_{i,j} abs(a_{i,j})^2]^{1/2}`\n",
      "\n",
      "The ``axis`` and ``keepdims`` arguments are passed directly to\n",
      "``numpy.linalg.norm`` and are only usable if they are supported\n",
      "by the version of numpy in use.\n",
      "\n",
      "References\n",
      "----------\n",
      ".. [1] G. H. Golub and C. F. Van Loan, *Matrix Computations*,\n",
      "       Baltimore, MD, Johns Hopkins University Press, 1985, pg. 15\n",
      "\n",
      "Examples\n",
      "--------\n",
      ">>> from scipy.linalg import norm\n",
      ">>> a = np.arange(9) - 4.0\n",
      ">>> a\n",
      "array([-4., -3., -2., -1.,  0.,  1.,  2.,  3.,  4.])\n",
      ">>> b = a.reshape((3, 3))\n",
      ">>> b\n",
      "array([[-4., -3., -2.],\n",
      "       [-1.,  0.,  1.],\n",
      "       [ 2.,  3.,  4.]])\n",
      "\n",
      ">>> norm(a)\n",
      "7.745966692414834\n",
      ">>> norm(b)\n",
      "7.745966692414834\n",
      ">>> norm(b, 'fro')\n",
      "7.745966692414834\n",
      ">>> norm(a, np.inf)\n",
      "4\n",
      ">>> norm(b, np.inf)\n",
      "9\n",
      ">>> norm(a, -np.inf)\n",
      "0\n",
      ">>> norm(b, -np.inf)\n",
      "2\n",
      "\n",
      ">>> norm(a, 1)\n",
      "20\n",
      ">>> norm(b, 1)\n",
      "7\n",
      ">>> norm(a, -1)\n",
      "-4.6566128774142013e-010\n",
      ">>> norm(b, -1)\n",
      "6\n",
      ">>> norm(a, 2)\n",
      "7.745966692414834\n",
      ">>> norm(b, 2)\n",
      "7.3484692283495345\n",
      "\n",
      ">>> norm(a, -2)\n",
      "0\n",
      ">>> norm(b, -2)\n",
      "1.8570331885190563e-016\n",
      ">>> norm(a, 3)\n",
      "5.8480354764257312\n",
      ">>> norm(a, -3)\n",
      "0\n"
     ]
    }
   ],
   "source": [
    "np.info(ln.norm)"
   ]
  },
  {
   "cell_type": "code",
   "execution_count": 8,
   "metadata": {},
   "outputs": [
    {
     "name": "stdout",
     "output_type": "stream",
     "text": [
      "====================================\n",
      "Linear algebra (:mod:`scipy.linalg`)\n",
      "====================================\n",
      "\n",
      ".. currentmodule:: scipy.linalg\n",
      "\n",
      "Linear algebra functions.\n",
      "\n",
      ".. seealso::\n",
      "\n",
      "   `numpy.linalg` for more linear algebra functions.  Note that\n",
      "   although `scipy.linalg` imports most of them, identically named\n",
      "   functions from `scipy.linalg` may offer more or slightly differing\n",
      "   functionality.\n",
      "\n",
      "\n",
      "Basics\n",
      "======\n",
      "\n",
      ".. autosummary::\n",
      "   :toctree: generated/\n",
      "\n",
      "   inv - Find the inverse of a square matrix\n",
      "   solve - Solve a linear system of equations\n",
      "   solve_banded - Solve a banded linear system\n",
      "   solveh_banded - Solve a Hermitian or symmetric banded system\n",
      "   solve_circulant - Solve a circulant system\n",
      "   solve_triangular - Solve a triangular matrix\n",
      "   solve_toeplitz - Solve a toeplitz matrix\n",
      "   det - Find the determinant of a square matrix\n",
      "   norm - Matrix and vector norm\n",
      "   lstsq - Solve a linear least-squares problem\n",
      "   pinv - Pseudo-inverse (Moore-Penrose) using lstsq\n",
      "   pinv2 - Pseudo-inverse using svd\n",
      "   pinvh - Pseudo-inverse of hermitian matrix\n",
      "   kron - Kronecker product of two arrays\n",
      "   tril - Construct a lower-triangular matrix from a given matrix\n",
      "   triu - Construct an upper-triangular matrix from a given matrix\n",
      "   orthogonal_procrustes - Solve an orthogonal Procrustes problem\n",
      "   matrix_balance - Balance matrix entries with a similarity transformation\n",
      "   LinAlgError\n",
      "\n",
      "Eigenvalue Problems\n",
      "===================\n",
      "\n",
      ".. autosummary::\n",
      "   :toctree: generated/\n",
      "\n",
      "   eig - Find the eigenvalues and eigenvectors of a square matrix\n",
      "   eigvals - Find just the eigenvalues of a square matrix\n",
      "   eigh - Find the e-vals and e-vectors of a Hermitian or symmetric matrix\n",
      "   eigvalsh - Find just the eigenvalues of a Hermitian or symmetric matrix\n",
      "   eig_banded - Find the eigenvalues and eigenvectors of a banded matrix\n",
      "   eigvals_banded - Find just the eigenvalues of a banded matrix\n",
      "\n",
      "Decompositions\n",
      "==============\n",
      "\n",
      ".. autosummary::\n",
      "   :toctree: generated/\n",
      "\n",
      "   lu - LU decomposition of a matrix\n",
      "   lu_factor - LU decomposition returning unordered matrix and pivots\n",
      "   lu_solve - Solve Ax=b using back substitution with output of lu_factor\n",
      "   svd - Singular value decomposition of a matrix\n",
      "   svdvals - Singular values of a matrix\n",
      "   diagsvd - Construct matrix of singular values from output of svd\n",
      "   orth - Construct orthonormal basis for the range of A using svd\n",
      "   cholesky - Cholesky decomposition of a matrix\n",
      "   cholesky_banded - Cholesky decomp. of a sym. or Hermitian banded matrix\n",
      "   cho_factor - Cholesky decomposition for use in solving a linear system\n",
      "   cho_solve - Solve previously factored linear system\n",
      "   cho_solve_banded - Solve previously factored banded linear system\n",
      "   polar - Compute the polar decomposition.\n",
      "   qr - QR decomposition of a matrix\n",
      "   qr_multiply - QR decomposition and multiplication by Q\n",
      "   qr_update - Rank k QR update\n",
      "   qr_delete - QR downdate on row or column deletion\n",
      "   qr_insert - QR update on row or column insertion\n",
      "   rq - RQ decomposition of a matrix\n",
      "   qz - QZ decomposition of a pair of matrices\n",
      "   ordqz - QZ decomposition of a pair of matrices with reordering\n",
      "   schur - Schur decomposition of a matrix\n",
      "   rsf2csf - Real to complex Schur form\n",
      "   hessenberg - Hessenberg form of a matrix\n",
      "\n",
      ".. seealso::\n",
      "\n",
      "   `scipy.linalg.interpolative` -- Interpolative matrix decompositions\n",
      "\n",
      "\n",
      "Matrix Functions\n",
      "================\n",
      "\n",
      ".. autosummary::\n",
      "   :toctree: generated/\n",
      "\n",
      "   expm - Matrix exponential\n",
      "   logm - Matrix logarithm\n",
      "   cosm - Matrix cosine\n",
      "   sinm - Matrix sine\n",
      "   tanm - Matrix tangent\n",
      "   coshm - Matrix hyperbolic cosine\n",
      "   sinhm - Matrix hyperbolic sine\n",
      "   tanhm - Matrix hyperbolic tangent\n",
      "   signm - Matrix sign\n",
      "   sqrtm - Matrix square root\n",
      "   funm - Evaluating an arbitrary matrix function\n",
      "   expm_frechet - Frechet derivative of the matrix exponential\n",
      "   expm_cond - Relative condition number of expm in the Frobenius norm\n",
      "   fractional_matrix_power - Fractional matrix power\n",
      "\n",
      "\n",
      "Matrix Equation Solvers\n",
      "=======================\n",
      "\n",
      ".. autosummary::\n",
      "   :toctree: generated/\n",
      "\n",
      "   solve_sylvester - Solve the Sylvester matrix equation\n",
      "   solve_continuous_are - Solve the continuous-time algebraic Riccati equation\n",
      "   solve_discrete_are - Solve the discrete-time algebraic Riccati equation\n",
      "   solve_discrete_lyapunov - Solve the discrete-time Lyapunov equation\n",
      "   solve_lyapunov - Solve the (continous-time) Lyapunov equation\n",
      "\n",
      "\n",
      "Special Matrices\n",
      "================\n",
      "\n",
      ".. autosummary::\n",
      "   :toctree: generated/\n",
      "\n",
      "   block_diag - Construct a block diagonal matrix from submatrices\n",
      "   circulant - Circulant matrix\n",
      "   companion - Companion matrix\n",
      "   dft - Discrete Fourier transform matrix\n",
      "   hadamard - Hadamard matrix of order 2**n\n",
      "   hankel - Hankel matrix\n",
      "   helmert - Helmert matrix\n",
      "   hilbert - Hilbert matrix\n",
      "   invhilbert - Inverse Hilbert matrix\n",
      "   leslie - Leslie matrix\n",
      "   pascal - Pascal matrix\n",
      "   invpascal - Inverse Pascal matrix\n",
      "   toeplitz - Toeplitz matrix\n",
      "   tri - Construct a matrix filled with ones at and below a given diagonal\n",
      "\n",
      "Low-level routines\n",
      "==================\n",
      "\n",
      ".. autosummary::\n",
      "   :toctree: generated/\n",
      "\n",
      "   get_blas_funcs\n",
      "   get_lapack_funcs\n",
      "   find_best_blas_type\n",
      "\n",
      ".. seealso::\n",
      "\n",
      "   `scipy.linalg.blas` -- Low-level BLAS functions\n",
      "\n",
      "   `scipy.linalg.lapack` -- Low-level LAPACK functions\n",
      "\n",
      "   `scipy.linalg.cython_blas` -- Low-level BLAS functions for Cython\n",
      "\n",
      "   `scipy.linalg.cython_lapack` -- Low-level LAPACK functions for Cython\n"
     ]
    }
   ],
   "source": [
    "np.info(ln)"
   ]
  },
  {
   "cell_type": "code",
   "execution_count": null,
   "metadata": {
    "collapsed": true
   },
   "outputs": [],
   "source": []
  }
 ],
 "metadata": {
  "kernelspec": {
   "display_name": "Python 2",
   "language": "python",
   "name": "python2"
  },
  "language_info": {
   "codemirror_mode": {
    "name": "ipython",
    "version": 2
   },
   "file_extension": ".py",
   "mimetype": "text/x-python",
   "name": "python",
   "nbconvert_exporter": "python",
   "pygments_lexer": "ipython2",
   "version": "2.7.13"
  }
 },
 "nbformat": 4,
 "nbformat_minor": 2
}
