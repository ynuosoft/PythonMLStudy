{
 "cells": [
  {
   "cell_type": "markdown",
   "metadata": {},
   "source": [
    "# 矩阵Numpy练习"
   ]
  },
  {
   "cell_type": "markdown",
   "metadata": {},
   "source": [
    "## 1 引用Numpy库"
   ]
  },
  {
   "cell_type": "code",
   "execution_count": 1,
   "metadata": {
    "collapsed": true
   },
   "outputs": [],
   "source": [
    "import numpy as np"
   ]
  },
  {
   "cell_type": "markdown",
   "metadata": {},
   "source": [
    "## 2 创建矩阵"
   ]
  },
  {
   "cell_type": "markdown",
   "metadata": {},
   "source": [
    "## 2.1 整数矩阵"
   ]
  },
  {
   "cell_type": "code",
   "execution_count": 3,
   "metadata": {},
   "outputs": [
    {
     "data": {
      "text/plain": [
       "array([ 0,  1,  2,  3,  4,  5,  6,  7,  8,  9, 10, 11, 12, 13, 14, 15, 16,\n",
       "       17, 18, 19])"
      ]
     },
     "execution_count": 3,
     "metadata": {},
     "output_type": "execute_result"
    }
   ],
   "source": [
    "a01=np.arange(20)\n",
    "a01"
   ]
  },
  {
   "cell_type": "code",
   "execution_count": 5,
   "metadata": {},
   "outputs": [
    {
     "data": {
      "text/plain": [
       "array([ 0,  1,  2,  3,  4,  5,  6,  7,  8,  9, 10, 11, 12, 13, 14, 15, 16,\n",
       "       17])"
      ]
     },
     "execution_count": 5,
     "metadata": {},
     "output_type": "execute_result"
    }
   ],
   "source": [
    "a01[:-2]"
   ]
  },
  {
   "cell_type": "markdown",
   "metadata": {},
   "source": [
    "## 2.2 浮点矩阵"
   ]
  },
  {
   "cell_type": "code",
   "execution_count": 3,
   "metadata": {},
   "outputs": [
    {
     "data": {
      "text/plain": [
       "array([  4.25393238e-04,   3.14548831e-01,   9.84741929e-01,\n",
       "         4.41879382e-01,   1.79829030e-01,   4.02200443e-01,\n",
       "         9.66864475e-01,   4.28881854e-01,   9.66795472e-01,\n",
       "         1.28766857e-01,   6.13856290e-01,   4.61146236e-01,\n",
       "         7.17612789e-01,   9.70495316e-02,   6.52427864e-01,\n",
       "         4.70347671e-02,   4.17119525e-01,   5.79753896e-01,\n",
       "         2.87942340e-02,   1.46322903e-01,   8.88305399e-01,\n",
       "         1.05486659e-02,   4.61320475e-01,   7.32688286e-01,\n",
       "         7.79988859e-01,   6.53851237e-01,   8.32807877e-01,\n",
       "         3.16108852e-01,   2.35420637e-01,   2.00104695e-01,\n",
       "         8.84472477e-01,   6.08598748e-01,   2.57916071e-01,\n",
       "         1.84267698e-02,   1.16288314e-01,   7.79615756e-01,\n",
       "         4.69602890e-01,   1.73819700e-01,   5.18852690e-01,\n",
       "         5.29802747e-01,   7.15643407e-02,   2.60424106e-01,\n",
       "         3.20443386e-01,   5.91402889e-01,   7.37975596e-01,\n",
       "         6.40864900e-01,   7.78224119e-02,   5.58937187e-01,\n",
       "         2.13509476e-01,   8.75463540e-01])"
      ]
     },
     "execution_count": 3,
     "metadata": {},
     "output_type": "execute_result"
    }
   ],
   "source": [
    "a0101=np.random.rand(50)\n",
    "a0101"
   ]
  },
  {
   "cell_type": "code",
   "execution_count": 4,
   "metadata": {},
   "outputs": [
    {
     "data": {
      "text/plain": [
       "array([   1.        ,    4.4137931 ,    7.82758621,   11.24137931,\n",
       "         14.65517241,   18.06896552,   21.48275862,   24.89655172,\n",
       "         28.31034483,   31.72413793,   35.13793103,   38.55172414,\n",
       "         41.96551724,   45.37931034,   48.79310345,   52.20689655,\n",
       "         55.62068966,   59.03448276,   62.44827586,   65.86206897,\n",
       "         69.27586207,   72.68965517,   76.10344828,   79.51724138,\n",
       "         82.93103448,   86.34482759,   89.75862069,   93.17241379,\n",
       "         96.5862069 ,  100.        ])"
      ]
     },
     "execution_count": 4,
     "metadata": {},
     "output_type": "execute_result"
    }
   ],
   "source": [
    "a0102=np.linspace(start=1,stop=100,num=30)\n",
    "a0102"
   ]
  },
  {
   "cell_type": "code",
   "execution_count": 5,
   "metadata": {},
   "outputs": [
    {
     "data": {
      "text/plain": [
       "array(['2017-07-01', '2017-07-02', '2017-07-03', '2017-07-04',\n",
       "       '2017-07-05', '2017-07-06', '2017-07-07', '2017-07-08',\n",
       "       '2017-07-09', '2017-07-10', '2017-07-11', '2017-07-12',\n",
       "       '2017-07-13', '2017-07-14', '2017-07-15', '2017-07-16',\n",
       "       '2017-07-17', '2017-07-18', '2017-07-19', '2017-07-20',\n",
       "       '2017-07-21', '2017-07-22', '2017-07-23', '2017-07-24',\n",
       "       '2017-07-25', '2017-07-26', '2017-07-27', '2017-07-28',\n",
       "       '2017-07-29', '2017-07-30', '2017-07-31'], dtype='datetime64[D]')"
      ]
     },
     "execution_count": 5,
     "metadata": {},
     "output_type": "execute_result"
    }
   ],
   "source": [
    "a0103=np.arange('2017-07', '2017-08', dtype='datetime64[D]')\n",
    "a0103"
   ]
  },
  {
   "cell_type": "markdown",
   "metadata": {},
   "source": [
    "## 2.3 多维度矩阵：二维"
   ]
  },
  {
   "cell_type": "code",
   "execution_count": 9,
   "metadata": {},
   "outputs": [
    {
     "data": {
      "text/plain": [
       "(array([[ 0.,  0.,  0.,  0.,  0.,  0.,  0.],\n",
       "        [ 0.,  0.,  0.,  0.,  0.,  0.,  0.],\n",
       "        [ 0.,  0.,  0.,  0.,  0.,  0.,  0.],\n",
       "        [ 0.,  0.,  0.,  0.,  0.,  0.,  0.],\n",
       "        [ 0.,  0.,  0.,  0.,  0.,  0.,  0.],\n",
       "        [ 0.,  0.,  0.,  0.,  0.,  0.,  0.],\n",
       "        [ 0.,  0.,  0.,  0.,  0.,  0.,  0.],\n",
       "        [ 0.,  0.,  0.,  0.,  0.,  0.,  0.],\n",
       "        [ 0.,  0.,  0.,  0.,  0.,  0.,  0.],\n",
       "        [ 0.,  0.,  0.,  0.,  0.,  0.,  0.]]), dtype('float64'))"
      ]
     },
     "execution_count": 9,
     "metadata": {},
     "output_type": "execute_result"
    }
   ],
   "source": [
    "tup01=(10,7)\n",
    "a0104=np.zeros(tup01)\n",
    "a0104,a0104.dtype"
   ]
  },
  {
   "cell_type": "code",
   "execution_count": 14,
   "metadata": {},
   "outputs": [
    {
     "data": {
      "text/plain": [
       "array([[ 1.,  1.,  1.,  1.,  1.,  1.,  1.,  1.,  1.,  1.],\n",
       "       [ 1.,  1.,  1.,  1.,  1.,  1.,  1.,  1.,  1.,  1.],\n",
       "       [ 1.,  1.,  1.,  1.,  1.,  1.,  1.,  1.,  1.,  1.],\n",
       "       [ 1.,  1.,  1.,  1.,  1.,  1.,  1.,  1.,  1.,  1.],\n",
       "       [ 1.,  1.,  1.,  1.,  1.,  1.,  1.,  1.,  1.,  1.],\n",
       "       [ 1.,  1.,  1.,  1.,  1.,  1.,  1.,  1.,  1.,  1.],\n",
       "       [ 1.,  1.,  1.,  1.,  1.,  1.,  1.,  1.,  1.,  1.]])"
      ]
     },
     "execution_count": 14,
     "metadata": {},
     "output_type": "execute_result"
    }
   ],
   "source": [
    "a0105=np.ones((7,10))\n",
    "a0105"
   ]
  },
  {
   "cell_type": "markdown",
   "metadata": {},
   "source": [
    "## 3 矩阵变形 ndarray"
   ]
  },
  {
   "cell_type": "code",
   "execution_count": 20,
   "metadata": {},
   "outputs": [
    {
     "data": {
      "text/plain": [
       "array([[[ 0,  1,  2,  3,  4],\n",
       "        [ 5,  6,  7,  8,  9]],\n",
       "\n",
       "       [[10, 11, 12, 13, 14],\n",
       "        [15, 16, 17, 18, 19]]])"
      ]
     },
     "execution_count": 20,
     "metadata": {},
     "output_type": "execute_result"
    }
   ],
   "source": [
    "a02=a01.reshape(2,2,5)\n",
    "a02"
   ]
  },
  {
   "cell_type": "code",
   "execution_count": null,
   "metadata": {
    "collapsed": true
   },
   "outputs": [],
   "source": []
  },
  {
   "cell_type": "markdown",
   "metadata": {},
   "source": [
    "## 4 矩阵属性"
   ]
  },
  {
   "cell_type": "code",
   "execution_count": 21,
   "metadata": {},
   "outputs": [
    {
     "data": {
      "text/plain": [
       "3"
      ]
     },
     "execution_count": 21,
     "metadata": {},
     "output_type": "execute_result"
    }
   ],
   "source": [
    "a02.ndim"
   ]
  },
  {
   "cell_type": "code",
   "execution_count": 22,
   "metadata": {},
   "outputs": [
    {
     "data": {
      "text/plain": [
       "(2, 2, 5)"
      ]
     },
     "execution_count": 22,
     "metadata": {},
     "output_type": "execute_result"
    }
   ],
   "source": [
    "a02.shape"
   ]
  },
  {
   "cell_type": "code",
   "execution_count": 23,
   "metadata": {},
   "outputs": [
    {
     "data": {
      "text/plain": [
       "20"
      ]
     },
     "execution_count": 23,
     "metadata": {},
     "output_type": "execute_result"
    }
   ],
   "source": [
    "a02.size"
   ]
  },
  {
   "cell_type": "code",
   "execution_count": 24,
   "metadata": {},
   "outputs": [
    {
     "data": {
      "text/plain": [
       "dtype('int32')"
      ]
     },
     "execution_count": 24,
     "metadata": {},
     "output_type": "execute_result"
    }
   ],
   "source": [
    "a02.dtype"
   ]
  },
  {
   "cell_type": "code",
   "execution_count": 25,
   "metadata": {},
   "outputs": [
    {
     "data": {
      "text/plain": [
       "4"
      ]
     },
     "execution_count": 25,
     "metadata": {},
     "output_type": "execute_result"
    }
   ],
   "source": [
    "a02.itemsize"
   ]
  },
  {
   "cell_type": "code",
   "execution_count": 26,
   "metadata": {},
   "outputs": [
    {
     "data": {
      "text/plain": [
       "numpy.ndarray"
      ]
     },
     "execution_count": 26,
     "metadata": {},
     "output_type": "execute_result"
    }
   ],
   "source": [
    "type(a02)"
   ]
  },
  {
   "cell_type": "code",
   "execution_count": 27,
   "metadata": {},
   "outputs": [
    {
     "data": {
      "text/plain": [
       "<read-write buffer for 0x042FD318, size 80, offset 0 at 0x04252AE0>"
      ]
     },
     "execution_count": 27,
     "metadata": {},
     "output_type": "execute_result"
    }
   ],
   "source": [
    "a02.data"
   ]
  },
  {
   "cell_type": "markdown",
   "metadata": {},
   "source": [
    "## 5 矩阵IO 保存"
   ]
  },
  {
   "cell_type": "code",
   "execution_count": 30,
   "metadata": {
    "collapsed": true
   },
   "outputs": [],
   "source": [
    "np.savetxt(\"a0102.txt\",a0102)"
   ]
  },
  {
   "cell_type": "code",
   "execution_count": 32,
   "metadata": {
    "collapsed": true
   },
   "outputs": [],
   "source": [
    "np.savetxt(\"a0103.txt\",a0103,fmt='%s')"
   ]
  },
  {
   "cell_type": "markdown",
   "metadata": {},
   "source": [
    "### 5.1 加载"
   ]
  },
  {
   "cell_type": "code",
   "execution_count": 33,
   "metadata": {},
   "outputs": [
    {
     "name": "stdout",
     "output_type": "stream",
     "text": [
      " loadtxt(fname, dtype=<type 'float'>, comments='#', delimiter=None,\n",
      "         converters=None, skiprows=0, usecols=None, unpack=False, ndmin=0)\n",
      "\n",
      "Load data from a text file.\n",
      "\n",
      "Each row in the text file must have the same number of values.\n",
      "\n",
      "Parameters\n",
      "----------\n",
      "fname : file, str, or pathlib.Path\n",
      "    File, filename, or generator to read.  If the filename extension is\n",
      "    ``.gz`` or ``.bz2``, the file is first decompressed. Note that\n",
      "    generators should return byte strings for Python 3k.\n",
      "dtype : data-type, optional\n",
      "    Data-type of the resulting array; default: float.  If this is a\n",
      "    structured data-type, the resulting array will be 1-dimensional, and\n",
      "    each row will be interpreted as an element of the array.  In this\n",
      "    case, the number of columns used must match the number of fields in\n",
      "    the data-type.\n",
      "comments : str or sequence, optional\n",
      "    The characters or list of characters used to indicate the start of a\n",
      "    comment;\n",
      "    default: '#'.\n",
      "delimiter : str, optional\n",
      "    The string used to separate values.  By default, this is any\n",
      "    whitespace.\n",
      "converters : dict, optional\n",
      "    A dictionary mapping column number to a function that will convert\n",
      "    that column to a float.  E.g., if column 0 is a date string:\n",
      "    ``converters = {0: datestr2num}``.  Converters can also be used to\n",
      "    provide a default value for missing data (but see also `genfromtxt`):\n",
      "    ``converters = {3: lambda s: float(s.strip() or 0)}``.  Default: None.\n",
      "skiprows : int, optional\n",
      "    Skip the first `skiprows` lines; default: 0.\n",
      "\n",
      "usecols : int or sequence, optional\n",
      "    Which columns to read, with 0 being the first. For example,\n",
      "    usecols = (1,4,5) will extract the 2nd, 5th and 6th columns.\n",
      "    The default, None, results in all columns being read.\n",
      "\n",
      "    .. versionadded:: 1.11.0\n",
      "\n",
      "    Also when a single column has to be read it is possible to use\n",
      "    an integer instead of a tuple. E.g ``usecols = 3`` reads the\n",
      "    fourth column the same way as `usecols = (3,)`` would.\n",
      "\n",
      "unpack : bool, optional\n",
      "    If True, the returned array is transposed, so that arguments may be\n",
      "    unpacked using ``x, y, z = loadtxt(...)``.  When used with a structured\n",
      "    data-type, arrays are returned for each field.  Default is False.\n",
      "ndmin : int, optional\n",
      "    The returned array will have at least `ndmin` dimensions.\n",
      "    Otherwise mono-dimensional axes will be squeezed.\n",
      "    Legal values: 0 (default), 1 or 2.\n",
      "\n",
      "    .. versionadded:: 1.6.0\n",
      "\n",
      "Returns\n",
      "-------\n",
      "out : ndarray\n",
      "    Data read from the text file.\n",
      "\n",
      "See Also\n",
      "--------\n",
      "load, fromstring, fromregex\n",
      "genfromtxt : Load data with missing values handled as specified.\n",
      "scipy.io.loadmat : reads MATLAB data files\n",
      "\n",
      "Notes\n",
      "-----\n",
      "This function aims to be a fast reader for simply formatted files.  The\n",
      "`genfromtxt` function provides more sophisticated handling of, e.g.,\n",
      "lines with missing values.\n",
      "\n",
      ".. versionadded:: 1.10.0\n",
      "\n",
      "The strings produced by the Python float.hex method can be used as\n",
      "input for floats.\n",
      "\n",
      "Examples\n",
      "--------\n",
      ">>> from io import StringIO   # StringIO behaves like a file object\n",
      ">>> c = StringIO(\"0 1\\n2 3\")\n",
      ">>> np.loadtxt(c)\n",
      "array([[ 0.,  1.],\n",
      "       [ 2.,  3.]])\n",
      "\n",
      ">>> d = StringIO(\"M 21 72\\nF 35 58\")\n",
      ">>> np.loadtxt(d, dtype={'names': ('gender', 'age', 'weight'),\n",
      "...                      'formats': ('S1', 'i4', 'f4')})\n",
      "array([('M', 21, 72.0), ('F', 35, 58.0)],\n",
      "      dtype=[('gender', '|S1'), ('age', '<i4'), ('weight', '<f4')])\n",
      "\n",
      ">>> c = StringIO(\"1,0,2\\n3,0,4\")\n",
      ">>> x, y = np.loadtxt(c, delimiter=',', usecols=(0, 2), unpack=True)\n",
      ">>> x\n",
      "array([ 1.,  3.])\n",
      ">>> y\n",
      "array([ 2.,  4.])\n"
     ]
    }
   ],
   "source": [
    "np.info(np.loadtxt)"
   ]
  },
  {
   "cell_type": "code",
   "execution_count": null,
   "metadata": {
    "collapsed": true
   },
   "outputs": [],
   "source": []
  }
 ],
 "metadata": {
  "kernelspec": {
   "display_name": "Python 2",
   "language": "python",
   "name": "python2"
  },
  "language_info": {
   "codemirror_mode": {
    "name": "ipython",
    "version": 2
   },
   "file_extension": ".py",
   "mimetype": "text/x-python",
   "name": "python",
   "nbconvert_exporter": "python",
   "pygments_lexer": "ipython2",
   "version": "2.7.13"
  }
 },
 "nbformat": 4,
 "nbformat_minor": 1
}
