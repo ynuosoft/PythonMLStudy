{
 "cells": [
  {
   "cell_type": "markdown",
   "metadata": {},
   "source": [
    "# NN基本概念"
   ]
  },
  {
   "cell_type": "markdown",
   "metadata": {},
   "source": [
    "## 1 模型算法来源"
   ]
  },
  {
   "cell_type": "markdown",
   "metadata": {},
   "source": [
    "### 1.1在一个多维度的几何空间中，寻找距离目标点最近的其它点，基于其它点的特征标记目标点"
   ]
  },
  {
   "cell_type": "code",
   "execution_count": 1,
   "metadata": {
    "collapsed": true
   },
   "outputs": [],
   "source": [
    "import numpy as np\n",
    "import matplotlib.pyplot as plt\n",
    "from matplotlib.colors import ListedColormap"
   ]
  },
  {
   "cell_type": "code",
   "execution_count": 3,
   "metadata": {
    "collapsed": true
   },
   "outputs": [],
   "source": [
    "from sklearn import datasets"
   ]
  },
  {
   "cell_type": "code",
   "execution_count": 21,
   "metadata": {
    "collapsed": true
   },
   "outputs": [],
   "source": [
    "data01=datasets.load_iris()\n",
    "x01=data01.data[:,:-2]\n",
    "y01=data01.target"
   ]
  },
  {
   "cell_type": "code",
   "execution_count": 22,
   "metadata": {},
   "outputs": [
    {
     "data": {
      "text/plain": [
       "(150, 4)"
      ]
     },
     "execution_count": 22,
     "metadata": {},
     "output_type": "execute_result"
    }
   ],
   "source": [
    "data01.data.shape"
   ]
  },
  {
   "cell_type": "code",
   "execution_count": 23,
   "metadata": {},
   "outputs": [
    {
     "data": {
      "text/plain": [
       "(150, 2)"
      ]
     },
     "execution_count": 23,
     "metadata": {},
     "output_type": "execute_result"
    }
   ],
   "source": [
    "x01.shape"
   ]
  },
  {
   "cell_type": "code",
   "execution_count": 24,
   "metadata": {},
   "outputs": [
    {
     "data": {
      "text/plain": [
       "array([[ 5.1,  3.5],\n",
       "       [ 4.9,  3. ],\n",
       "       [ 4.7,  3.2],\n",
       "       [ 4.6,  3.1],\n",
       "       [ 5. ,  3.6]])"
      ]
     },
     "execution_count": 24,
     "metadata": {},
     "output_type": "execute_result"
    }
   ],
   "source": [
    "x01[:5]"
   ]
  },
  {
   "cell_type": "code",
   "execution_count": 25,
   "metadata": {},
   "outputs": [
    {
     "data": {
      "text/plain": [
       "array([0, 0, 0, 0, 0])"
      ]
     },
     "execution_count": 25,
     "metadata": {},
     "output_type": "execute_result"
    }
   ],
   "source": [
    "y01[:5]"
   ]
  },
  {
   "cell_type": "markdown",
   "metadata": {},
   "source": [
    "## 2 画图：数据点分布"
   ]
  },
  {
   "cell_type": "code",
   "execution_count": 26,
   "metadata": {
    "collapsed": true
   },
   "outputs": [],
   "source": [
    "cmap_light = ListedColormap(['#FFAAAA', '#AAFFAA', '#AAAAFF'])\n",
    "cmap_bold = ListedColormap(['#FF0000', '#00FF00', '#0000FF'])"
   ]
  },
  {
   "cell_type": "code",
   "execution_count": 27,
   "metadata": {},
   "outputs": [
    {
     "data": {
      "image/png": "[encoded data removed]",
      "text/plain": [
       "<matplotlib.figure.Figure at 0x8b78d10>"
      ]
     },
     "metadata": {},
     "output_type": "display_data"
    }
   ],
   "source": [
    "plt.figure(figsize=[14,10])\n",
    "plt.scatter(x01[:,0],x01[:,1],c=y01[:],cmap=cmap_bold)\n",
    "plt.scatter(x01[75,0],x01[75,1],linewidths=45,c=\"r\")\n",
    "plt.show()"
   ]
  },
  {
   "cell_type": "markdown",
   "metadata": {},
   "source": [
    "## 1.2 区域颜色分类"
   ]
  },
  {
   "cell_type": "markdown",
   "metadata": {},
   "source": [
    "### 1.2.1 生成网格"
   ]
  },
  {
   "cell_type": "code",
   "execution_count": 28,
   "metadata": {},
   "outputs": [
    {
     "data": {
      "text/plain": [
       "(3.2999999999999998, 8.9000000000000004)"
      ]
     },
     "execution_count": 28,
     "metadata": {},
     "output_type": "execute_result"
    }
   ],
   "source": [
    "x_min = x01[:, 0].min() - 1\n",
    "x_max = x01[:, 0].max() + 1\n",
    "x_min,x_max"
   ]
  },
  {
   "cell_type": "code",
   "execution_count": 29,
   "metadata": {},
   "outputs": [
    {
     "data": {
      "text/plain": [
       "(1.0, 5.4000000000000004)"
      ]
     },
     "execution_count": 29,
     "metadata": {},
     "output_type": "execute_result"
    }
   ],
   "source": [
    "y_min = x01[:, 1].min() - 1 \n",
    "y_max = x01[:, 1].max() + 1\n",
    "y_min,y_max"
   ]
  },
  {
   "cell_type": "code",
   "execution_count": 43,
   "metadata": {},
   "outputs": [
    {
     "data": {
      "text/plain": [
       "array([[ 3.3 ,  3.32,  3.34, ...,  8.84,  8.86,  8.88],\n",
       "       [ 3.3 ,  3.32,  3.34, ...,  8.84,  8.86,  8.88],\n",
       "       [ 3.3 ,  3.32,  3.34, ...,  8.84,  8.86,  8.88],\n",
       "       [ 3.3 ,  3.32,  3.34, ...,  8.84,  8.86,  8.88],\n",
       "       [ 3.3 ,  3.32,  3.34, ...,  8.84,  8.86,  8.88]])"
      ]
     },
     "execution_count": 43,
     "metadata": {},
     "output_type": "execute_result"
    }
   ],
   "source": [
    "h = 0.02  # step size in the mesh\n",
    "xx, yy = np.meshgrid(np.arange(x_min, x_max, h), np.arange(y_min, y_max, h))\n",
    "xx[:5]"
   ]
  },
  {
   "cell_type": "code",
   "execution_count": 44,
   "metadata": {},
   "outputs": [
    {
     "data": {
      "text/plain": [
       "array([[ 1.  ,  1.  ,  1.  , ...,  1.  ,  1.  ,  1.  ],\n",
       "       [ 1.02,  1.02,  1.02, ...,  1.02,  1.02,  1.02],\n",
       "       [ 1.04,  1.04,  1.04, ...,  1.04,  1.04,  1.04],\n",
       "       [ 1.06,  1.06,  1.06, ...,  1.06,  1.06,  1.06],\n",
       "       [ 1.08,  1.08,  1.08, ...,  1.08,  1.08,  1.08]])"
      ]
     },
     "execution_count": 44,
     "metadata": {},
     "output_type": "execute_result"
    }
   ],
   "source": [
    "yy[:5]"
   ]
  },
  {
   "cell_type": "code",
   "execution_count": 47,
   "metadata": {},
   "outputs": [
    {
     "data": {
      "text/plain": [
       "((220, 280), (220, 280))"
      ]
     },
     "execution_count": 47,
     "metadata": {},
     "output_type": "execute_result"
    }
   ],
   "source": [
    "xx.shape,yy.shape"
   ]
  },
  {
   "cell_type": "code",
   "execution_count": 45,
   "metadata": {},
   "outputs": [
    {
     "data": {
      "text/plain": [
       "(61600, 2)"
      ]
     },
     "execution_count": 45,
     "metadata": {},
     "output_type": "execute_result"
    }
   ],
   "source": [
    "Z=np.c_[xx.ravel(), yy.ravel()]\n",
    "Z.shape"
   ]
  },
  {
   "cell_type": "code",
   "execution_count": 46,
   "metadata": {},
   "outputs": [
    {
     "ename": "ValueError",
     "evalue": "cannot reshape array of size 123200 into shape (220,280)",
     "output_type": "error",
     "traceback": [
      "\u001b[1;31m---------------------------------------------------------------------------\u001b[0m",
      "\u001b[1;31mValueError\u001b[0m                                Traceback (most recent call last)",
      "\u001b[1;32m<ipython-input-46-8b6e70009b21>\u001b[0m in \u001b[0;36m<module>\u001b[1;34m()\u001b[0m\n\u001b[1;32m----> 1\u001b[1;33m \u001b[0mZ\u001b[0m\u001b[1;33m=\u001b[0m\u001b[0mZ\u001b[0m\u001b[1;33m.\u001b[0m\u001b[0mreshape\u001b[0m\u001b[1;33m(\u001b[0m\u001b[0mxx\u001b[0m\u001b[1;33m.\u001b[0m\u001b[0mshape\u001b[0m\u001b[1;33m)\u001b[0m\u001b[1;33m\u001b[0m\u001b[0m\n\u001b[0m",
      "\u001b[1;31mValueError\u001b[0m: cannot reshape array of size 123200 into shape (220,280)"
     ]
    }
   ],
   "source": [
    "Z=Z.reshape(xx.shape)"
   ]
  },
  {
   "cell_type": "markdown",
   "metadata": {
    "collapsed": true
   },
   "source": [
    "## 3 画图： 颜色区块"
   ]
  },
  {
   "cell_type": "code",
   "execution_count": 11,
   "metadata": {
    "collapsed": true
   },
   "outputs": [],
   "source": [
    "x = np.arange(5)\n",
    "y = np.arange(3)\n",
    "X, Y = np.meshgrid(x, y)\n",
    "C = np.random.rand(len(x), len(y))"
   ]
  },
  {
   "cell_type": "code",
   "execution_count": 12,
   "metadata": {},
   "outputs": [
    {
     "data": {
      "text/plain": [
       "(array([0, 1, 2, 3, 4]), array([0, 1, 2]))"
      ]
     },
     "execution_count": 12,
     "metadata": {},
     "output_type": "execute_result"
    }
   ],
   "source": [
    "x,y"
   ]
  },
  {
   "cell_type": "code",
   "execution_count": 15,
   "metadata": {},
   "outputs": [
    {
     "data": {
      "text/plain": [
       "array([[0, 1, 2, 3, 4],\n",
       "       [0, 1, 2, 3, 4],\n",
       "       [0, 1, 2, 3, 4]])"
      ]
     },
     "execution_count": 15,
     "metadata": {},
     "output_type": "execute_result"
    }
   ],
   "source": [
    "X"
   ]
  },
  {
   "cell_type": "code",
   "execution_count": 17,
   "metadata": {},
   "outputs": [
    {
     "data": {
      "text/plain": [
       "array([[0, 0, 0, 0, 0],\n",
       "       [1, 1, 1, 1, 1],\n",
       "       [2, 2, 2, 2, 2]])"
      ]
     },
     "execution_count": 17,
     "metadata": {},
     "output_type": "execute_result"
    }
   ],
   "source": [
    "Y"
   ]
  },
  {
   "cell_type": "code",
   "execution_count": 20,
   "metadata": {},
   "outputs": [
    {
     "data": {
      "text/plain": [
       "array([[ 0.89309241,  0.38900637,  0.03765295,  0.59304284,  0.31754263],\n",
       "       [ 0.91029757,  0.25490376,  0.87326471,  0.04574141,  0.95037697],\n",
       "       [ 0.91665085,  0.78601095,  0.38225262,  0.88154677,  0.37308601]])"
      ]
     },
     "execution_count": 20,
     "metadata": {},
     "output_type": "execute_result"
    }
   ],
   "source": [
    "C.T"
   ]
  },
  {
   "cell_type": "code",
   "execution_count": 24,
   "metadata": {},
   "outputs": [
    {
     "data": {
      "image/png": "[encoded data removed]",
      "text/plain": [
       "<matplotlib.figure.Figure at 0x8b0e6d0>"
      ]
     },
     "metadata": {},
     "output_type": "display_data"
    }
   ],
   "source": [
    "plt.figure(figsize=[12,8])\n",
    "plt.pcolor(X,Y,C.T,cmap=cmap_light)\n",
    "plt.show()"
   ]
  },
  {
   "cell_type": "markdown",
   "metadata": {},
   "source": [
    "## 2 帮助"
   ]
  },
  {
   "cell_type": "code",
   "execution_count": 5,
   "metadata": {},
   "outputs": [
    {
     "name": "stdout",
     "output_type": "stream",
     "text": [
      " pcolor(*args, **kwargs)\n",
      "\n",
      "Create a pseudocolor plot of a 2-D array.\n",
      "\n",
      ".. note::\n",
      "\n",
      "    pcolor can be very slow for large arrays; consider\n",
      "    using the similar but much faster\n",
      "    :func:`~matplotlib.pyplot.pcolormesh` instead.\n",
      "\n",
      "Call signatures::\n",
      "\n",
      "  pcolor(C, **kwargs)\n",
      "  pcolor(X, Y, C, **kwargs)\n",
      "\n",
      "*C* is the array of color values.\n",
      "\n",
      "*X* and *Y*, if given, specify the (*x*, *y*) coordinates of\n",
      "the colored quadrilaterals; the quadrilateral for C[i,j] has\n",
      "corners at::\n",
      "\n",
      "  (X[i,   j],   Y[i,   j]),\n",
      "  (X[i,   j+1], Y[i,   j+1]),\n",
      "  (X[i+1, j],   Y[i+1, j]),\n",
      "  (X[i+1, j+1], Y[i+1, j+1]).\n",
      "\n",
      "Ideally the dimensions of *X* and *Y* should be one greater\n",
      "than those of *C*; if the dimensions are the same, then the\n",
      "last row and column of *C* will be ignored.\n",
      "\n",
      "Note that the column index corresponds to the\n",
      "*x*-coordinate, and the row index corresponds to *y*; for\n",
      "details, see the :ref:`Grid Orientation\n",
      "<axes-pcolor-grid-orientation>` section below.\n",
      "\n",
      "If either or both of *X* and *Y* are 1-D arrays or column vectors,\n",
      "they will be expanded as needed into the appropriate 2-D arrays,\n",
      "making a rectangular grid.\n",
      "\n",
      "*X*, *Y* and *C* may be masked arrays.  If either C[i, j], or one\n",
      "of the vertices surrounding C[i,j] (*X* or *Y* at [i, j], [i+1, j],\n",
      "[i, j+1],[i+1, j+1]) is masked, nothing is plotted.\n",
      "\n",
      "Keyword arguments:\n",
      "\n",
      "  *cmap*: [ *None* | Colormap ]\n",
      "    A :class:`matplotlib.colors.Colormap` instance. If *None*, use\n",
      "    rc settings.\n",
      "\n",
      "  *norm*: [ *None* | Normalize ]\n",
      "    An :class:`matplotlib.colors.Normalize` instance is used\n",
      "    to scale luminance data to 0,1. If *None*, defaults to\n",
      "    :func:`normalize`.\n",
      "\n",
      "  *vmin*/*vmax*: [ *None* | scalar ]\n",
      "    *vmin* and *vmax* are used in conjunction with *norm* to\n",
      "    normalize luminance data.  If either is *None*, it\n",
      "    is autoscaled to the respective min or max\n",
      "    of the color array *C*.  If not *None*, *vmin* or\n",
      "    *vmax* passed in here override any pre-existing values\n",
      "    supplied in the *norm* instance.\n",
      "\n",
      "  *shading*: [ 'flat' | 'faceted' ]\n",
      "    If 'faceted', a black grid is drawn around each rectangle; if\n",
      "    'flat', edges are not drawn. Default is 'flat', contrary to\n",
      "    MATLAB.\n",
      "\n",
      "    This kwarg is deprecated; please use 'edgecolors' instead:\n",
      "      * shading='flat' -- edgecolors='none'\n",
      "      * shading='faceted  -- edgecolors='k'\n",
      "\n",
      "  *edgecolors*: [ *None* | ``'none'`` | color | color sequence]\n",
      "    If *None*, the rc setting is used by default.\n",
      "\n",
      "    If ``'none'``, edges will not be visible.\n",
      "\n",
      "    An mpl color or sequence of colors will set the edge color\n",
      "\n",
      "  *alpha*: ``0 <= scalar <= 1``   or *None*\n",
      "    the alpha blending value\n",
      "\n",
      "  *snap*: bool\n",
      "    Whether to snap the mesh to pixel boundaries.\n",
      "\n",
      "Return value is a :class:`matplotlib.collections.Collection`\n",
      "instance.\n",
      "\n",
      ".. _axes-pcolor-grid-orientation:\n",
      "\n",
      "The grid orientation follows the MATLAB convention: an\n",
      "array *C* with shape (*nrows*, *ncolumns*) is plotted with\n",
      "the column number as *X* and the row number as *Y*, increasing\n",
      "up; hence it is plotted the way the array would be printed,\n",
      "except that the *Y* axis is reversed.  That is, *C* is taken\n",
      "as *C*(*y*, *x*).\n",
      "\n",
      "Similarly for :func:`meshgrid`::\n",
      "\n",
      "  x = np.arange(5)\n",
      "  y = np.arange(3)\n",
      "  X, Y = np.meshgrid(x, y)\n",
      "\n",
      "is equivalent to::\n",
      "\n",
      "  X = array([[0, 1, 2, 3, 4],\n",
      "             [0, 1, 2, 3, 4],\n",
      "             [0, 1, 2, 3, 4]])\n",
      "\n",
      "  Y = array([[0, 0, 0, 0, 0],\n",
      "             [1, 1, 1, 1, 1],\n",
      "             [2, 2, 2, 2, 2]])\n",
      "\n",
      "so if you have::\n",
      "\n",
      "  C = rand(len(x), len(y))\n",
      "\n",
      "then you need to transpose C::\n",
      "\n",
      "  pcolor(X, Y, C.T)\n",
      "\n",
      "or::\n",
      "\n",
      "  pcolor(C.T)\n",
      "\n",
      "MATLAB :func:`pcolor` always discards the last row and column\n",
      "of *C*, but matplotlib displays the last row and column if *X* and\n",
      "*Y* are not specified, or if *X* and *Y* have one more row and\n",
      "column than *C*.\n",
      "\n",
      "kwargs can be used to control the\n",
      ":class:`~matplotlib.collections.PolyCollection` properties:\n",
      "\n",
      "  agg_filter: unknown\n",
      "  alpha: float or None \n",
      "  animated: [True | False] \n",
      "  antialiased or antialiaseds: Boolean or sequence of booleans \n",
      "  array: unknown\n",
      "  axes: an :class:`~matplotlib.axes.Axes` instance \n",
      "  clim: a length 2 sequence of floats \n",
      "  clip_box: a :class:`matplotlib.transforms.Bbox` instance \n",
      "  clip_on: [True | False] \n",
      "  clip_path: [ (:class:`~matplotlib.path.Path`, :class:`~matplotlib.transforms.Transform`) | :class:`~matplotlib.patches.Patch` | None ] \n",
      "  cmap: a colormap or registered colormap name \n",
      "  color: matplotlib color arg or sequence of rgba tuples\n",
      "  contains: a callable function \n",
      "  edgecolor or edgecolors: matplotlib color spec or sequence of specs \n",
      "  facecolor or facecolors: matplotlib color spec or sequence of specs \n",
      "  figure: a :class:`matplotlib.figure.Figure` instance \n",
      "  gid: an id string \n",
      "  hatch: [ '/' | '\\\\' | '|' | '-' | '+' | 'x' | 'o' | 'O' | '.' | '*' ] \n",
      "  label: string or anything printable with '%s' conversion. \n",
      "  linestyle or dashes or linestyles: ['solid' | 'dashed', 'dashdot', 'dotted' | (offset, on-off-dash-seq) | ``'-'`` | ``'--'`` | ``'-.'`` | ``':'`` | ``'None'`` | ``' '`` | ``''``]\n",
      "  linewidth or linewidths or lw: float or sequence of floats \n",
      "  norm: unknown\n",
      "  offset_position: unknown\n",
      "  offsets: float or sequence of floats \n",
      "  path_effects: unknown\n",
      "  picker: [None|float|boolean|callable] \n",
      "  pickradius: unknown\n",
      "  rasterized: [True | False | None] \n",
      "  sketch_params: unknown\n",
      "  snap: unknown\n",
      "  transform: :class:`~matplotlib.transforms.Transform` instance \n",
      "  url: a url string \n",
      "  urls: unknown\n",
      "  visible: [True | False] \n",
      "  zorder: any number \n",
      "\n",
      ".. note::\n",
      "\n",
      "    The default *antialiaseds* is False if the default\n",
      "    *edgecolors*=\"none\" is used.  This eliminates artificial lines\n",
      "    at patch boundaries, and works regardless of the value of\n",
      "    alpha.  If *edgecolors* is not \"none\", then the default\n",
      "    *antialiaseds* is taken from\n",
      "    rcParams['patch.antialiased'], which defaults to *True*.\n",
      "    Stroking the edges may be preferred if *alpha* is 1, but\n",
      "    will cause artifacts otherwise.\n",
      "\n",
      ".. seealso::\n",
      "\n",
      "    :func:`~matplotlib.pyplot.pcolormesh`\n",
      "        For an explanation of the differences between\n",
      "        pcolor and pcolormesh.\n",
      "\n",
      ".. note::\n",
      "    In addition to the above described arguments, this function can take a\n",
      "    **data** keyword argument. If such a **data** argument is given, the\n",
      "    following arguments are replaced by **data[<arg>]**:\n",
      "\n",
      "    * All positional and all keyword arguments.\n"
     ]
    }
   ],
   "source": [
    "np.info(plt.pcolor)"
   ]
  },
  {
   "cell_type": "code",
   "execution_count": null,
   "metadata": {
    "collapsed": true
   },
   "outputs": [],
   "source": []
  }
 ],
 "metadata": {
  "kernelspec": {
   "display_name": "Python 2",
   "language": "python",
   "name": "python2"
  },
  "language_info": {
   "codemirror_mode": {
    "name": "ipython",
    "version": 2
   },
   "file_extension": ".py",
   "mimetype": "text/x-python",
   "name": "python",
   "nbconvert_exporter": "python",
   "pygments_lexer": "ipython2",
   "version": "2.7.13"
  }
 },
 "nbformat": 4,
 "nbformat_minor": 2
}
