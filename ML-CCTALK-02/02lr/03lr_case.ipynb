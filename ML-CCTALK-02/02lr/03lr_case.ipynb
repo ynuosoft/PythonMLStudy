{
 "cells": [
  {
   "cell_type": "markdown",
   "metadata": {},
   "source": [
    "# 逻辑回归案例：非演示"
   ]
  },
  {
   "cell_type": "code",
   "execution_count": 1,
   "metadata": {},
   "outputs": [
    {
     "name": "stdout",
     "output_type": "stream",
     "text": [
      "Automatically created module for IPython interactive environment\n"
     ]
    }
   ],
   "source": [
    "print(__doc__)\n",
    "from datetime import datetime\n",
    "import numpy as np\n",
    "import matplotlib.pyplot as plt"
   ]
  },
  {
   "cell_type": "code",
   "execution_count": 2,
   "metadata": {
    "collapsed": true
   },
   "outputs": [],
   "source": [
    "from sklearn import linear_model\n",
    "from sklearn import datasets\n",
    "from sklearn.svm import l1_min_c"
   ]
  },
  {
   "cell_type": "code",
   "execution_count": null,
   "metadata": {
    "collapsed": true
   },
   "outputs": [],
   "source": []
  },
  {
   "cell_type": "code",
   "execution_count": 20,
   "metadata": {
    "collapsed": true
   },
   "outputs": [],
   "source": [
    "iris = datasets.load_iris()\n",
    "X = iris.data\n",
    "y = iris.target"
   ]
  },
  {
   "cell_type": "code",
   "execution_count": 21,
   "metadata": {
    "collapsed": true
   },
   "outputs": [],
   "source": [
    "X = X[y != 2]\n",
    "y = y[y != 2]"
   ]
  },
  {
   "cell_type": "code",
   "execution_count": 22,
   "metadata": {},
   "outputs": [
    {
     "data": {
      "text/plain": [
       "array([[ 5.1,  3.5,  1.4,  0.2],\n",
       "       [ 4.9,  3. ,  1.4,  0.2],\n",
       "       [ 4.7,  3.2,  1.3,  0.2],\n",
       "       [ 4.6,  3.1,  1.5,  0.2],\n",
       "       [ 5. ,  3.6,  1.4,  0.2],\n",
       "       [ 5.4,  3.9,  1.7,  0.4],\n",
       "       [ 4.6,  3.4,  1.4,  0.3],\n",
       "       [ 5. ,  3.4,  1.5,  0.2],\n",
       "       [ 4.4,  2.9,  1.4,  0.2],\n",
       "       [ 4.9,  3.1,  1.5,  0.1]])"
      ]
     },
     "execution_count": 22,
     "metadata": {},
     "output_type": "execute_result"
    }
   ],
   "source": [
    "X[:10]"
   ]
  },
  {
   "cell_type": "code",
   "execution_count": 23,
   "metadata": {
    "collapsed": true
   },
   "outputs": [],
   "source": [
    "X -= np.mean(X, 0)"
   ]
  },
  {
   "cell_type": "code",
   "execution_count": 24,
   "metadata": {},
   "outputs": [
    {
     "data": {
      "text/plain": [
       "array([[-0.371,  0.406, -1.462, -0.585],\n",
       "       [-0.571, -0.094, -1.462, -0.585],\n",
       "       [-0.771,  0.106, -1.562, -0.585],\n",
       "       [-0.871,  0.006, -1.362, -0.585],\n",
       "       [-0.471,  0.506, -1.462, -0.585],\n",
       "       [-0.071,  0.806, -1.162, -0.385],\n",
       "       [-0.871,  0.306, -1.462, -0.485],\n",
       "       [-0.471,  0.306, -1.362, -0.585],\n",
       "       [-1.071, -0.194, -1.462, -0.585],\n",
       "       [-0.571,  0.006, -1.362, -0.685]])"
      ]
     },
     "execution_count": 24,
     "metadata": {},
     "output_type": "execute_result"
    }
   ],
   "source": [
    "X[:10]"
   ]
  },
  {
   "cell_type": "code",
   "execution_count": 25,
   "metadata": {},
   "outputs": [
    {
     "name": "stdout",
     "output_type": "stream",
     "text": [
      "Computing regularization path ...\n",
      "('This took ', datetime.timedelta(0, 0, 52000))\n"
     ]
    }
   ],
   "source": [
    "# #############################################################################\n",
    "# Demo path functions\n",
    "\n",
    "cs = l1_min_c(X, y, loss='log') * np.logspace(0, 3)\n",
    "\n",
    "print(\"Computing regularization path ...\")\n",
    "start = datetime.now()\n",
    "clf = linear_model.LogisticRegression(C=1.0, penalty='l1', tol=1e-6)\n",
    "coefs_ = []\n",
    "for c in cs:\n",
    "    clf.set_params(C=c)\n",
    "    clf.fit(X, y)\n",
    "    coefs_.append(clf.coef_.ravel().copy())\n",
    "print(\"This took \", datetime.now() - start)"
   ]
  },
  {
   "cell_type": "code",
   "execution_count": 27,
   "metadata": {},
   "outputs": [
    {
     "data": {
      "text/plain": [
       "[array([ 0.,  0.,  0.,  0.]),\n",
       " array([ 0.        ,  0.        ,  0.17813685,  0.        ]),\n",
       " array([ 0.       ,  0.       ,  0.3384641,  0.       ]),\n",
       " array([ 0.        ,  0.        ,  0.48655481,  0.        ]),\n",
       " array([ 0.        ,  0.        ,  0.62591101,  0.        ]),\n",
       " array([ 0.        ,  0.        ,  0.75886719,  0.        ]),\n",
       " array([ 0.        ,  0.        ,  0.88705168,  0.        ]),\n",
       " array([ 0.        ,  0.        ,  1.01164509,  0.        ]),\n",
       " array([ 0.        ,  0.        ,  1.13353082,  0.        ]),\n",
       " array([ 0.       ,  0.       ,  1.2533886,  0.       ])]"
      ]
     },
     "execution_count": 27,
     "metadata": {},
     "output_type": "execute_result"
    }
   ],
   "source": [
    "coefs_[:10]"
   ]
  },
  {
   "cell_type": "code",
   "execution_count": 28,
   "metadata": {},
   "outputs": [
    {
     "data": {
      "text/plain": [
       "array([[ 0.        ,  0.        ,  0.        ,  0.        ],\n",
       "       [ 0.        ,  0.        ,  0.17813685,  0.        ],\n",
       "       [ 0.        ,  0.        ,  0.3384641 ,  0.        ],\n",
       "       [ 0.        ,  0.        ,  0.48655481,  0.        ],\n",
       "       [ 0.        ,  0.        ,  0.62591101,  0.        ],\n",
       "       [ 0.        ,  0.        ,  0.75886719,  0.        ],\n",
       "       [ 0.        ,  0.        ,  0.88705168,  0.        ],\n",
       "       [ 0.        ,  0.        ,  1.01164509,  0.        ],\n",
       "       [ 0.        ,  0.        ,  1.13353082,  0.        ],\n",
       "       [ 0.        ,  0.        ,  1.2533886 ,  0.        ]])"
      ]
     },
     "execution_count": 28,
     "metadata": {},
     "output_type": "execute_result"
    }
   ],
   "source": [
    "coefs_ = np.array(coefs_)\n",
    "coefs_[:10]"
   ]
  },
  {
   "cell_type": "code",
   "execution_count": 29,
   "metadata": {},
   "outputs": [
    {
     "data": {
      "image/png": "[encoded data removed]",
      "text/plain": [
       "<matplotlib.figure.Figure at 0x8cebcd0>"
      ]
     },
     "metadata": {},
     "output_type": "display_data"
    }
   ],
   "source": [
    "plt.plot(np.log10(cs), coefs_)\n",
    "# ymin, ymax = plt.ylim()\n",
    "plt.xlabel('log(C)')\n",
    "plt.ylabel('Coefficients')\n",
    "plt.title('Logistic Regression Path')\n",
    "plt.axis('tight')\n",
    "plt.show()"
   ]
  },
  {
   "cell_type": "code",
   "execution_count": null,
   "metadata": {
    "collapsed": true
   },
   "outputs": [],
   "source": []
  }
 ],
 "metadata": {
  "kernelspec": {
   "display_name": "Python 2",
   "language": "python",
   "name": "python2"
  },
  "language_info": {
   "codemirror_mode": {
    "name": "ipython",
    "version": 2
   },
   "file_extension": ".py",
   "mimetype": "text/x-python",
   "name": "python",
   "nbconvert_exporter": "python",
   "pygments_lexer": "ipython2",
   "version": "2.7.13"
  }
 },
 "nbformat": 4,
 "nbformat_minor": 2
}
