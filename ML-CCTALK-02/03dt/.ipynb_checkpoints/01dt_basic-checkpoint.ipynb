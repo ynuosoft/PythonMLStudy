{
 "cells": [
  {
   "cell_type": "markdown",
   "metadata": {},
   "source": [
    "# 决策树基本模型"
   ]
  },
  {
   "cell_type": "markdown",
   "metadata": {},
   "source": [
    "## 1 引用"
   ]
  },
  {
   "cell_type": "code",
   "execution_count": 1,
   "metadata": {
    "collapsed": true
   },
   "outputs": [],
   "source": [
    "import numpy as np\n",
    "import matplotlib.pyplot as plt"
   ]
  },
  {
   "cell_type": "code",
   "execution_count": 18,
   "metadata": {
    "collapsed": true
   },
   "outputs": [],
   "source": [
    "from sklearn import tree\n",
    "from sklearn import datasets\n",
    "from sklearn import metrics"
   ]
  },
  {
   "cell_type": "markdown",
   "metadata": {},
   "source": [
    "## 2 数据准备"
   ]
  },
  {
   "cell_type": "code",
   "execution_count": 6,
   "metadata": {
    "collapsed": true
   },
   "outputs": [],
   "source": [
    "data01=datasets.load_iris()\n",
    "X01=data01.data\n",
    "y01=data01.target\n",
    "fname01=data01.feature_names\n",
    "tname01=data01.target_names"
   ]
  },
  {
   "cell_type": "code",
   "execution_count": 7,
   "metadata": {},
   "outputs": [
    {
     "data": {
      "text/plain": [
       "(array([[ 5.1,  3.5,  1.4,  0.2],\n",
       "        [ 4.9,  3. ,  1.4,  0.2],\n",
       "        [ 4.7,  3.2,  1.3,  0.2],\n",
       "        [ 4.6,  3.1,  1.5,  0.2],\n",
       "        [ 5. ,  3.6,  1.4,  0.2]]), array([0, 0, 0, 0, 0]))"
      ]
     },
     "execution_count": 7,
     "metadata": {},
     "output_type": "execute_result"
    }
   ],
   "source": [
    "X01[:5],y01[:5]"
   ]
  },
  {
   "cell_type": "markdown",
   "metadata": {},
   "source": [
    "## 3 模型准备"
   ]
  },
  {
   "cell_type": "code",
   "execution_count": 8,
   "metadata": {},
   "outputs": [
    {
     "name": "stdout",
     "output_type": "stream",
     "text": [
      "Wall time: 0 ns\n"
     ]
    }
   ],
   "source": [
    "%%time\n",
    "clf01 = tree.DecisionTreeClassifier(criterion=\"entropy\")\n",
    "clf01"
   ]
  },
  {
   "cell_type": "markdown",
   "metadata": {},
   "source": [
    "## 4 模型训练"
   ]
  },
  {
   "cell_type": "code",
   "execution_count": 9,
   "metadata": {},
   "outputs": [
    {
     "name": "stdout",
     "output_type": "stream",
     "text": [
      "Wall time: 1 ms\n"
     ]
    },
    {
     "data": {
      "text/plain": [
       "DecisionTreeClassifier(class_weight=None, criterion='entropy', max_depth=None,\n",
       "            max_features=None, max_leaf_nodes=None,\n",
       "            min_impurity_split=1e-07, min_samples_leaf=1,\n",
       "            min_samples_split=2, min_weight_fraction_leaf=0.0,\n",
       "            presort=False, random_state=None, splitter='best')"
      ]
     },
     "execution_count": 9,
     "metadata": {},
     "output_type": "execute_result"
    }
   ],
   "source": [
    "%%time\n",
    "clf01.fit(X01, y01)"
   ]
  },
  {
   "cell_type": "markdown",
   "metadata": {},
   "source": [
    "## 5 预测"
   ]
  },
  {
   "cell_type": "code",
   "execution_count": 13,
   "metadata": {},
   "outputs": [
    {
     "name": "stdout",
     "output_type": "stream",
     "text": [
      "Wall time: 0 ns\n"
     ]
    }
   ],
   "source": [
    "%%time\n",
    "y01_predict=clf01.predict(X=X01)"
   ]
  },
  {
   "cell_type": "code",
   "execution_count": 15,
   "metadata": {},
   "outputs": [
    {
     "data": {
      "text/plain": [
       "array([0, 0, 0, 0, 0, 0, 0, 0, 0, 0, 0, 0, 0, 0, 0, 0, 0, 0, 0, 0])"
      ]
     },
     "execution_count": 15,
     "metadata": {},
     "output_type": "execute_result"
    }
   ],
   "source": [
    "y01_predict[:20]"
   ]
  },
  {
   "cell_type": "code",
   "execution_count": 16,
   "metadata": {},
   "outputs": [
    {
     "data": {
      "text/plain": [
       "array([0, 0, 0, 0, 0, 0, 0, 0, 0, 0, 0, 0, 0, 0, 0, 0, 0, 0, 0, 0])"
      ]
     },
     "execution_count": 16,
     "metadata": {},
     "output_type": "execute_result"
    }
   ],
   "source": [
    "y01[:20]"
   ]
  },
  {
   "cell_type": "code",
   "execution_count": 19,
   "metadata": {},
   "outputs": [
    {
     "name": "stdout",
     "output_type": "stream",
     "text": [
      "模型准确率：100.000000 %\n"
     ]
    }
   ],
   "source": [
    "print '模型准确率：%f %s' % (metrics.accuracy_score(y_true=y01,y_pred=y01_predict)*100,'%')"
   ]
  },
  {
   "cell_type": "markdown",
   "metadata": {},
   "source": [
    "# 6 图示：决策树模型"
   ]
  },
  {
   "cell_type": "code",
   "execution_count": 10,
   "metadata": {
    "collapsed": true
   },
   "outputs": [],
   "source": [
    "import graphviz \n",
    "# dot_data = tree.export_graphviz(clf01, out_file=None) \n",
    "# dot_data \n",
    "# graph = graphviz.Source(dot_data) \n",
    "# #graph.render(\"iris\")\n",
    "# graph"
   ]
  },
  {
   "cell_type": "markdown",
   "metadata": {},
   "source": [
    "### 6.1 保持到文件01dt.dot"
   ]
  },
  {
   "cell_type": "code",
   "execution_count": 11,
   "metadata": {
    "collapsed": true
   },
   "outputs": [],
   "source": [
    "dot_data = tree.export_graphviz(clf01, out_file=\"01dt.dot\", \n",
    "                         feature_names=fname01,  \n",
    "                         class_names=tname01,  \n",
    "                         filled=True, rounded=True,  \n",
    "                         special_characters=True)  \n"
   ]
  },
  {
   "cell_type": "markdown",
   "metadata": {},
   "source": [
    "### 6.2 直接展示"
   ]
  },
  {
   "cell_type": "code",
   "execution_count": 12,
   "metadata": {},
   "outputs": [
    {
     "data": {
      "image/svg+xml": [
       "<?xml version=\"1.0\" encoding=\"UTF-8\" standalone=\"no\"?>\r\n",
       "<!DOCTYPE svg PUBLIC \"-//W3C//DTD SVG 1.1//EN\"\r\n",
       " \"http://www.w3.org/Graphics/SVG/1.1/DTD/svg11.dtd\">\r\n",
       "<!-- Generated by graphviz version 2.38.0 (20140413.2041)\r\n",
       " -->\r\n",
       "<!-- Title: Tree Pages: 1 -->\r\n",
       "<svg width=\"880pt\" height=\"671pt\"\r\n",
       " viewBox=\"0.00 0.00 880.00 671.00\" xmlns=\"http://www.w3.org/2000/svg\" xmlns:xlink=\"http://www.w3.org/1999/xlink\">\r\n",
       "<g id=\"graph0\" class=\"graph\" transform=\"scale(1 1) rotate(0) translate(4 667)\">\r\n",
       "<title>Tree</title>\r\n",
       "<polygon fill=\"white\" stroke=\"none\" points=\"-4,4 -4,-667 876,-667 876,4 -4,4\"/>\r\n",
       "<!-- 0 -->\r\n",
       "<g id=\"node1\" class=\"node\"><title>0</title>\r\n",
       "<path fill=\"none\" stroke=\"black\" d=\"M525,-663C525,-663 398,-663 398,-663 392,-663 386,-657 386,-651 386,-651 386,-592 386,-592 386,-586 392,-580 398,-580 398,-580 525,-580 525,-580 531,-580 537,-586 537,-592 537,-592 537,-651 537,-651 537,-657 531,-663 525,-663\"/>\r\n",
       "<text text-anchor=\"start\" x=\"394\" y=\"-647.8\" font-family=\"Helvetica,sans-Serif\" font-size=\"14.00\">petal width (cm) ≤ 0.8</text>\r\n",
       "<text text-anchor=\"start\" x=\"411.5\" y=\"-632.8\" font-family=\"Helvetica,sans-Serif\" font-size=\"14.00\">entropy = 1.585</text>\r\n",
       "<text text-anchor=\"start\" x=\"414\" y=\"-617.8\" font-family=\"Helvetica,sans-Serif\" font-size=\"14.00\">samples = 150</text>\r\n",
       "<text text-anchor=\"start\" x=\"401\" y=\"-602.8\" font-family=\"Helvetica,sans-Serif\" font-size=\"14.00\">value = [50, 50, 50]</text>\r\n",
       "<text text-anchor=\"start\" x=\"415.5\" y=\"-587.8\" font-family=\"Helvetica,sans-Serif\" font-size=\"14.00\">class = setosa</text>\r\n",
       "</g>\r\n",
       "<!-- 1 -->\r\n",
       "<g id=\"node2\" class=\"node\"><title>1</title>\r\n",
       "<path fill=\"#e58139\" stroke=\"black\" d=\"M431,-536.5C431,-536.5 334,-536.5 334,-536.5 328,-536.5 322,-530.5 322,-524.5 322,-524.5 322,-480.5 322,-480.5 322,-474.5 328,-468.5 334,-468.5 334,-468.5 431,-468.5 431,-468.5 437,-468.5 443,-474.5 443,-480.5 443,-480.5 443,-524.5 443,-524.5 443,-530.5 437,-536.5 431,-536.5\"/>\r\n",
       "<text text-anchor=\"start\" x=\"340.5\" y=\"-521.3\" font-family=\"Helvetica,sans-Serif\" font-size=\"14.00\">entropy = 0.0</text>\r\n",
       "<text text-anchor=\"start\" x=\"339\" y=\"-506.3\" font-family=\"Helvetica,sans-Serif\" font-size=\"14.00\">samples = 50</text>\r\n",
       "<text text-anchor=\"start\" x=\"330\" y=\"-491.3\" font-family=\"Helvetica,sans-Serif\" font-size=\"14.00\">value = [50, 0, 0]</text>\r\n",
       "<text text-anchor=\"start\" x=\"336.5\" y=\"-476.3\" font-family=\"Helvetica,sans-Serif\" font-size=\"14.00\">class = setosa</text>\r\n",
       "</g>\r\n",
       "<!-- 0&#45;&gt;1 -->\r\n",
       "<g id=\"edge1\" class=\"edge\"><title>0&#45;&gt;1</title>\r\n",
       "<path fill=\"none\" stroke=\"black\" d=\"M434.091,-579.907C426.492,-568.652 418.231,-556.418 410.593,-545.106\"/>\r\n",
       "<polygon fill=\"black\" stroke=\"black\" points=\"413.391,-542.996 404.895,-536.667 407.59,-546.913 413.391,-542.996\"/>\r\n",
       "<text text-anchor=\"middle\" x=\"400.136\" y=\"-557.51\" font-family=\"Helvetica,sans-Serif\" font-size=\"14.00\">True</text>\r\n",
       "</g>\r\n",
       "<!-- 2 -->\r\n",
       "<g id=\"node3\" class=\"node\"><title>2</title>\r\n",
       "<path fill=\"none\" stroke=\"black\" d=\"M608,-544C608,-544 473,-544 473,-544 467,-544 461,-538 461,-532 461,-532 461,-473 461,-473 461,-467 467,-461 473,-461 473,-461 608,-461 608,-461 614,-461 620,-467 620,-473 620,-473 620,-532 620,-532 620,-538 614,-544 608,-544\"/>\r\n",
       "<text text-anchor=\"start\" x=\"469\" y=\"-528.8\" font-family=\"Helvetica,sans-Serif\" font-size=\"14.00\">petal width (cm) ≤ 1.75</text>\r\n",
       "<text text-anchor=\"start\" x=\"498.5\" y=\"-513.8\" font-family=\"Helvetica,sans-Serif\" font-size=\"14.00\">entropy = 1.0</text>\r\n",
       "<text text-anchor=\"start\" x=\"493\" y=\"-498.8\" font-family=\"Helvetica,sans-Serif\" font-size=\"14.00\">samples = 100</text>\r\n",
       "<text text-anchor=\"start\" x=\"484\" y=\"-483.8\" font-family=\"Helvetica,sans-Serif\" font-size=\"14.00\">value = [0, 50, 50]</text>\r\n",
       "<text text-anchor=\"start\" x=\"485\" y=\"-468.8\" font-family=\"Helvetica,sans-Serif\" font-size=\"14.00\">class = versicolor</text>\r\n",
       "</g>\r\n",
       "<!-- 0&#45;&gt;2 -->\r\n",
       "<g id=\"edge2\" class=\"edge\"><title>0&#45;&gt;2</title>\r\n",
       "<path fill=\"none\" stroke=\"black\" d=\"M488.909,-579.907C494.914,-571.014 501.331,-561.509 507.529,-552.331\"/>\r\n",
       "<polygon fill=\"black\" stroke=\"black\" points=\"510.444,-554.267 513.14,-544.021 504.643,-550.35 510.444,-554.267\"/>\r\n",
       "<text text-anchor=\"middle\" x=\"517.898\" y=\"-564.864\" font-family=\"Helvetica,sans-Serif\" font-size=\"14.00\">False</text>\r\n",
       "</g>\r\n",
       "<!-- 3 -->\r\n",
       "<g id=\"node4\" class=\"node\"><title>3</title>\r\n",
       "<path fill=\"#39e581\" fill-opacity=\"0.898039\" stroke=\"black\" d=\"M497,-425C497,-425 356,-425 356,-425 350,-425 344,-419 344,-413 344,-413 344,-354 344,-354 344,-348 350,-342 356,-342 356,-342 497,-342 497,-342 503,-342 509,-348 509,-354 509,-354 509,-413 509,-413 509,-419 503,-425 497,-425\"/>\r\n",
       "<text text-anchor=\"start\" x=\"352\" y=\"-409.8\" font-family=\"Helvetica,sans-Serif\" font-size=\"14.00\">petal length (cm) ≤ 4.95</text>\r\n",
       "<text text-anchor=\"start\" x=\"372\" y=\"-394.8\" font-family=\"Helvetica,sans-Serif\" font-size=\"14.00\">entropy = 0.4451</text>\r\n",
       "<text text-anchor=\"start\" x=\"383\" y=\"-379.8\" font-family=\"Helvetica,sans-Serif\" font-size=\"14.00\">samples = 54</text>\r\n",
       "<text text-anchor=\"start\" x=\"374\" y=\"-364.8\" font-family=\"Helvetica,sans-Serif\" font-size=\"14.00\">value = [0, 49, 5]</text>\r\n",
       "<text text-anchor=\"start\" x=\"371\" y=\"-349.8\" font-family=\"Helvetica,sans-Serif\" font-size=\"14.00\">class = versicolor</text>\r\n",
       "</g>\r\n",
       "<!-- 2&#45;&gt;3 -->\r\n",
       "<g id=\"edge3\" class=\"edge\"><title>2&#45;&gt;3</title>\r\n",
       "<path fill=\"none\" stroke=\"black\" d=\"M500.948,-460.907C491.929,-451.651 482.265,-441.732 472.986,-432.209\"/>\r\n",
       "<polygon fill=\"black\" stroke=\"black\" points=\"475.467,-429.741 465.982,-425.021 470.454,-434.626 475.467,-429.741\"/>\r\n",
       "</g>\r\n",
       "<!-- 12 -->\r\n",
       "<g id=\"node13\" class=\"node\"><title>12</title>\r\n",
       "<path fill=\"#8139e5\" fill-opacity=\"0.976471\" stroke=\"black\" d=\"M726,-425C726,-425 585,-425 585,-425 579,-425 573,-419 573,-413 573,-413 573,-354 573,-354 573,-348 579,-342 585,-342 585,-342 726,-342 726,-342 732,-342 738,-348 738,-354 738,-354 738,-413 738,-413 738,-419 732,-425 726,-425\"/>\r\n",
       "<text text-anchor=\"start\" x=\"581\" y=\"-409.8\" font-family=\"Helvetica,sans-Serif\" font-size=\"14.00\">petal length (cm) ≤ 4.85</text>\r\n",
       "<text text-anchor=\"start\" x=\"601\" y=\"-394.8\" font-family=\"Helvetica,sans-Serif\" font-size=\"14.00\">entropy = 0.1511</text>\r\n",
       "<text text-anchor=\"start\" x=\"612\" y=\"-379.8\" font-family=\"Helvetica,sans-Serif\" font-size=\"14.00\">samples = 46</text>\r\n",
       "<text text-anchor=\"start\" x=\"603\" y=\"-364.8\" font-family=\"Helvetica,sans-Serif\" font-size=\"14.00\">value = [0, 1, 45]</text>\r\n",
       "<text text-anchor=\"start\" x=\"605.5\" y=\"-349.8\" font-family=\"Helvetica,sans-Serif\" font-size=\"14.00\">class = virginica</text>\r\n",
       "</g>\r\n",
       "<!-- 2&#45;&gt;12 -->\r\n",
       "<g id=\"edge12\" class=\"edge\"><title>2&#45;&gt;12</title>\r\n",
       "<path fill=\"none\" stroke=\"black\" d=\"M580.399,-460.907C589.497,-451.651 599.246,-441.732 608.607,-432.209\"/>\r\n",
       "<polygon fill=\"black\" stroke=\"black\" points=\"611.158,-434.606 615.672,-425.021 606.166,-429.699 611.158,-434.606\"/>\r\n",
       "</g>\r\n",
       "<!-- 4 -->\r\n",
       "<g id=\"node5\" class=\"node\"><title>4</title>\r\n",
       "<path fill=\"#39e581\" fill-opacity=\"0.980392\" stroke=\"black\" d=\"M271,-306C271,-306 136,-306 136,-306 130,-306 124,-300 124,-294 124,-294 124,-235 124,-235 124,-229 130,-223 136,-223 136,-223 271,-223 271,-223 277,-223 283,-229 283,-235 283,-235 283,-294 283,-294 283,-300 277,-306 271,-306\"/>\r\n",
       "<text text-anchor=\"start\" x=\"132\" y=\"-290.8\" font-family=\"Helvetica,sans-Serif\" font-size=\"14.00\">petal width (cm) ≤ 1.65</text>\r\n",
       "<text text-anchor=\"start\" x=\"149\" y=\"-275.8\" font-family=\"Helvetica,sans-Serif\" font-size=\"14.00\">entropy = 0.1461</text>\r\n",
       "<text text-anchor=\"start\" x=\"160\" y=\"-260.8\" font-family=\"Helvetica,sans-Serif\" font-size=\"14.00\">samples = 48</text>\r\n",
       "<text text-anchor=\"start\" x=\"151\" y=\"-245.8\" font-family=\"Helvetica,sans-Serif\" font-size=\"14.00\">value = [0, 47, 1]</text>\r\n",
       "<text text-anchor=\"start\" x=\"148\" y=\"-230.8\" font-family=\"Helvetica,sans-Serif\" font-size=\"14.00\">class = versicolor</text>\r\n",
       "</g>\r\n",
       "<!-- 3&#45;&gt;4 -->\r\n",
       "<g id=\"edge4\" class=\"edge\"><title>3&#45;&gt;4</title>\r\n",
       "<path fill=\"none\" stroke=\"black\" d=\"M349.131,-341.907C329.932,-331.834 309.238,-320.977 289.646,-310.698\"/>\r\n",
       "<polygon fill=\"black\" stroke=\"black\" points=\"291.213,-307.568 280.732,-306.021 287.961,-313.766 291.213,-307.568\"/>\r\n",
       "</g>\r\n",
       "<!-- 7 -->\r\n",
       "<g id=\"node8\" class=\"node\"><title>7</title>\r\n",
       "<path fill=\"#8139e5\" fill-opacity=\"0.498039\" stroke=\"black\" d=\"M494,-306C494,-306 359,-306 359,-306 353,-306 347,-300 347,-294 347,-294 347,-235 347,-235 347,-229 353,-223 359,-223 359,-223 494,-223 494,-223 500,-223 506,-229 506,-235 506,-235 506,-294 506,-294 506,-300 500,-306 494,-306\"/>\r\n",
       "<text text-anchor=\"start\" x=\"355\" y=\"-290.8\" font-family=\"Helvetica,sans-Serif\" font-size=\"14.00\">petal width (cm) ≤ 1.55</text>\r\n",
       "<text text-anchor=\"start\" x=\"372\" y=\"-275.8\" font-family=\"Helvetica,sans-Serif\" font-size=\"14.00\">entropy = 0.9183</text>\r\n",
       "<text text-anchor=\"start\" x=\"387\" y=\"-260.8\" font-family=\"Helvetica,sans-Serif\" font-size=\"14.00\">samples = 6</text>\r\n",
       "<text text-anchor=\"start\" x=\"378\" y=\"-245.8\" font-family=\"Helvetica,sans-Serif\" font-size=\"14.00\">value = [0, 2, 4]</text>\r\n",
       "<text text-anchor=\"start\" x=\"376.5\" y=\"-230.8\" font-family=\"Helvetica,sans-Serif\" font-size=\"14.00\">class = virginica</text>\r\n",
       "</g>\r\n",
       "<!-- 3&#45;&gt;7 -->\r\n",
       "<g id=\"edge7\" class=\"edge\"><title>3&#45;&gt;7</title>\r\n",
       "<path fill=\"none\" stroke=\"black\" d=\"M426.5,-341.907C426.5,-333.649 426.5,-324.864 426.5,-316.302\"/>\r\n",
       "<polygon fill=\"black\" stroke=\"black\" points=\"430,-316.021 426.5,-306.021 423,-316.021 430,-316.021\"/>\r\n",
       "</g>\r\n",
       "<!-- 5 -->\r\n",
       "<g id=\"node6\" class=\"node\"><title>5</title>\r\n",
       "<path fill=\"#39e581\" stroke=\"black\" d=\"M115,-179.5C115,-179.5 12,-179.5 12,-179.5 6,-179.5 -7.10543e-015,-173.5 -7.10543e-015,-167.5 -7.10543e-015,-167.5 -7.10543e-015,-123.5 -7.10543e-015,-123.5 -7.10543e-015,-117.5 6,-111.5 12,-111.5 12,-111.5 115,-111.5 115,-111.5 121,-111.5 127,-117.5 127,-123.5 127,-123.5 127,-167.5 127,-167.5 127,-173.5 121,-179.5 115,-179.5\"/>\r\n",
       "<text text-anchor=\"start\" x=\"21.5\" y=\"-164.3\" font-family=\"Helvetica,sans-Serif\" font-size=\"14.00\">entropy = 0.0</text>\r\n",
       "<text text-anchor=\"start\" x=\"20\" y=\"-149.3\" font-family=\"Helvetica,sans-Serif\" font-size=\"14.00\">samples = 47</text>\r\n",
       "<text text-anchor=\"start\" x=\"11\" y=\"-134.3\" font-family=\"Helvetica,sans-Serif\" font-size=\"14.00\">value = [0, 47, 0]</text>\r\n",
       "<text text-anchor=\"start\" x=\"8\" y=\"-119.3\" font-family=\"Helvetica,sans-Serif\" font-size=\"14.00\">class = versicolor</text>\r\n",
       "</g>\r\n",
       "<!-- 4&#45;&gt;5 -->\r\n",
       "<g id=\"edge5\" class=\"edge\"><title>4&#45;&gt;5</title>\r\n",
       "<path fill=\"none\" stroke=\"black\" d=\"M154.928,-222.907C140.668,-210.99 125.095,-197.976 110.908,-186.12\"/>\r\n",
       "<polygon fill=\"black\" stroke=\"black\" points=\"113.105,-183.394 103.187,-179.667 108.616,-188.765 113.105,-183.394\"/>\r\n",
       "</g>\r\n",
       "<!-- 6 -->\r\n",
       "<g id=\"node7\" class=\"node\"><title>6</title>\r\n",
       "<path fill=\"#8139e5\" stroke=\"black\" d=\"M249.5,-179.5C249.5,-179.5 157.5,-179.5 157.5,-179.5 151.5,-179.5 145.5,-173.5 145.5,-167.5 145.5,-167.5 145.5,-123.5 145.5,-123.5 145.5,-117.5 151.5,-111.5 157.5,-111.5 157.5,-111.5 249.5,-111.5 249.5,-111.5 255.5,-111.5 261.5,-117.5 261.5,-123.5 261.5,-123.5 261.5,-167.5 261.5,-167.5 261.5,-173.5 255.5,-179.5 249.5,-179.5\"/>\r\n",
       "<text text-anchor=\"start\" x=\"161.5\" y=\"-164.3\" font-family=\"Helvetica,sans-Serif\" font-size=\"14.00\">entropy = 0.0</text>\r\n",
       "<text text-anchor=\"start\" x=\"164\" y=\"-149.3\" font-family=\"Helvetica,sans-Serif\" font-size=\"14.00\">samples = 1</text>\r\n",
       "<text text-anchor=\"start\" x=\"155\" y=\"-134.3\" font-family=\"Helvetica,sans-Serif\" font-size=\"14.00\">value = [0, 0, 1]</text>\r\n",
       "<text text-anchor=\"start\" x=\"153.5\" y=\"-119.3\" font-family=\"Helvetica,sans-Serif\" font-size=\"14.00\">class = virginica</text>\r\n",
       "</g>\r\n",
       "<!-- 4&#45;&gt;6 -->\r\n",
       "<g id=\"edge6\" class=\"edge\"><title>4&#45;&gt;6</title>\r\n",
       "<path fill=\"none\" stroke=\"black\" d=\"M203.5,-222.907C203.5,-212.204 203.5,-200.615 203.5,-189.776\"/>\r\n",
       "<polygon fill=\"black\" stroke=\"black\" points=\"207,-189.667 203.5,-179.667 200,-189.667 207,-189.667\"/>\r\n",
       "</g>\r\n",
       "<!-- 8 -->\r\n",
       "<g id=\"node9\" class=\"node\"><title>8</title>\r\n",
       "<path fill=\"#8139e5\" stroke=\"black\" d=\"M383.5,-179.5C383.5,-179.5 291.5,-179.5 291.5,-179.5 285.5,-179.5 279.5,-173.5 279.5,-167.5 279.5,-167.5 279.5,-123.5 279.5,-123.5 279.5,-117.5 285.5,-111.5 291.5,-111.5 291.5,-111.5 383.5,-111.5 383.5,-111.5 389.5,-111.5 395.5,-117.5 395.5,-123.5 395.5,-123.5 395.5,-167.5 395.5,-167.5 395.5,-173.5 389.5,-179.5 383.5,-179.5\"/>\r\n",
       "<text text-anchor=\"start\" x=\"295.5\" y=\"-164.3\" font-family=\"Helvetica,sans-Serif\" font-size=\"14.00\">entropy = 0.0</text>\r\n",
       "<text text-anchor=\"start\" x=\"298\" y=\"-149.3\" font-family=\"Helvetica,sans-Serif\" font-size=\"14.00\">samples = 3</text>\r\n",
       "<text text-anchor=\"start\" x=\"289\" y=\"-134.3\" font-family=\"Helvetica,sans-Serif\" font-size=\"14.00\">value = [0, 0, 3]</text>\r\n",
       "<text text-anchor=\"start\" x=\"287.5\" y=\"-119.3\" font-family=\"Helvetica,sans-Serif\" font-size=\"14.00\">class = virginica</text>\r\n",
       "</g>\r\n",
       "<!-- 7&#45;&gt;8 -->\r\n",
       "<g id=\"edge8\" class=\"edge\"><title>7&#45;&gt;8</title>\r\n",
       "<path fill=\"none\" stroke=\"black\" d=\"M395.622,-222.907C386.976,-211.542 377.572,-199.178 368.896,-187.774\"/>\r\n",
       "<polygon fill=\"black\" stroke=\"black\" points=\"371.57,-185.507 362.73,-179.667 365.998,-189.745 371.57,-185.507\"/>\r\n",
       "</g>\r\n",
       "<!-- 9 -->\r\n",
       "<g id=\"node10\" class=\"node\"><title>9</title>\r\n",
       "<path fill=\"#39e581\" fill-opacity=\"0.498039\" stroke=\"black\" d=\"M567,-187C567,-187 426,-187 426,-187 420,-187 414,-181 414,-175 414,-175 414,-116 414,-116 414,-110 420,-104 426,-104 426,-104 567,-104 567,-104 573,-104 579,-110 579,-116 579,-116 579,-175 579,-175 579,-181 573,-187 567,-187\"/>\r\n",
       "<text text-anchor=\"start\" x=\"422\" y=\"-171.8\" font-family=\"Helvetica,sans-Serif\" font-size=\"14.00\">petal length (cm) ≤ 5.45</text>\r\n",
       "<text text-anchor=\"start\" x=\"442\" y=\"-156.8\" font-family=\"Helvetica,sans-Serif\" font-size=\"14.00\">entropy = 0.9183</text>\r\n",
       "<text text-anchor=\"start\" x=\"457\" y=\"-141.8\" font-family=\"Helvetica,sans-Serif\" font-size=\"14.00\">samples = 3</text>\r\n",
       "<text text-anchor=\"start\" x=\"448\" y=\"-126.8\" font-family=\"Helvetica,sans-Serif\" font-size=\"14.00\">value = [0, 2, 1]</text>\r\n",
       "<text text-anchor=\"start\" x=\"441\" y=\"-111.8\" font-family=\"Helvetica,sans-Serif\" font-size=\"14.00\">class = versicolor</text>\r\n",
       "</g>\r\n",
       "<!-- 7&#45;&gt;9 -->\r\n",
       "<g id=\"edge9\" class=\"edge\"><title>7&#45;&gt;9</title>\r\n",
       "<path fill=\"none\" stroke=\"black\" d=\"M450.786,-222.907C456.053,-214.105 461.678,-204.703 467.117,-195.612\"/>\r\n",
       "<polygon fill=\"black\" stroke=\"black\" points=\"470.126,-197.399 472.257,-187.021 464.119,-193.805 470.126,-197.399\"/>\r\n",
       "</g>\r\n",
       "<!-- 10 -->\r\n",
       "<g id=\"node11\" class=\"node\"><title>10</title>\r\n",
       "<path fill=\"#39e581\" stroke=\"black\" d=\"M478,-68C478,-68 375,-68 375,-68 369,-68 363,-62 363,-56 363,-56 363,-12 363,-12 363,-6 369,-0 375,-0 375,-0 478,-0 478,-0 484,-0 490,-6 490,-12 490,-12 490,-56 490,-56 490,-62 484,-68 478,-68\"/>\r\n",
       "<text text-anchor=\"start\" x=\"384.5\" y=\"-52.8\" font-family=\"Helvetica,sans-Serif\" font-size=\"14.00\">entropy = 0.0</text>\r\n",
       "<text text-anchor=\"start\" x=\"387\" y=\"-37.8\" font-family=\"Helvetica,sans-Serif\" font-size=\"14.00\">samples = 2</text>\r\n",
       "<text text-anchor=\"start\" x=\"378\" y=\"-22.8\" font-family=\"Helvetica,sans-Serif\" font-size=\"14.00\">value = [0, 2, 0]</text>\r\n",
       "<text text-anchor=\"start\" x=\"371\" y=\"-7.8\" font-family=\"Helvetica,sans-Serif\" font-size=\"14.00\">class = versicolor</text>\r\n",
       "</g>\r\n",
       "<!-- 9&#45;&gt;10 -->\r\n",
       "<g id=\"edge10\" class=\"edge\"><title>9&#45;&gt;10</title>\r\n",
       "<path fill=\"none\" stroke=\"black\" d=\"M470.435,-103.726C464.837,-94.9703 458.913,-85.7032 453.289,-76.9051\"/>\r\n",
       "<polygon fill=\"black\" stroke=\"black\" points=\"456.123,-74.8399 447.787,-68.2996 450.225,-78.6103 456.123,-74.8399\"/>\r\n",
       "</g>\r\n",
       "<!-- 11 -->\r\n",
       "<g id=\"node12\" class=\"node\"><title>11</title>\r\n",
       "<path fill=\"#8139e5\" stroke=\"black\" d=\"M612.5,-68C612.5,-68 520.5,-68 520.5,-68 514.5,-68 508.5,-62 508.5,-56 508.5,-56 508.5,-12 508.5,-12 508.5,-6 514.5,-0 520.5,-0 520.5,-0 612.5,-0 612.5,-0 618.5,-0 624.5,-6 624.5,-12 624.5,-12 624.5,-56 624.5,-56 624.5,-62 618.5,-68 612.5,-68\"/>\r\n",
       "<text text-anchor=\"start\" x=\"524.5\" y=\"-52.8\" font-family=\"Helvetica,sans-Serif\" font-size=\"14.00\">entropy = 0.0</text>\r\n",
       "<text text-anchor=\"start\" x=\"527\" y=\"-37.8\" font-family=\"Helvetica,sans-Serif\" font-size=\"14.00\">samples = 1</text>\r\n",
       "<text text-anchor=\"start\" x=\"518\" y=\"-22.8\" font-family=\"Helvetica,sans-Serif\" font-size=\"14.00\">value = [0, 0, 1]</text>\r\n",
       "<text text-anchor=\"start\" x=\"516.5\" y=\"-7.8\" font-family=\"Helvetica,sans-Serif\" font-size=\"14.00\">class = virginica</text>\r\n",
       "</g>\r\n",
       "<!-- 9&#45;&gt;11 -->\r\n",
       "<g id=\"edge11\" class=\"edge\"><title>9&#45;&gt;11</title>\r\n",
       "<path fill=\"none\" stroke=\"black\" d=\"M522.565,-103.726C528.163,-94.9703 534.087,-85.7032 539.711,-76.9051\"/>\r\n",
       "<polygon fill=\"black\" stroke=\"black\" points=\"542.775,-78.6103 545.213,-68.2996 536.877,-74.8399 542.775,-78.6103\"/>\r\n",
       "</g>\r\n",
       "<!-- 13 -->\r\n",
       "<g id=\"node14\" class=\"node\"><title>13</title>\r\n",
       "<path fill=\"#8139e5\" fill-opacity=\"0.498039\" stroke=\"black\" d=\"M721,-306C721,-306 590,-306 590,-306 584,-306 578,-300 578,-294 578,-294 578,-235 578,-235 578,-229 584,-223 590,-223 590,-223 721,-223 721,-223 727,-223 733,-229 733,-235 733,-235 733,-294 733,-294 733,-300 727,-306 721,-306\"/>\r\n",
       "<text text-anchor=\"start\" x=\"586\" y=\"-290.8\" font-family=\"Helvetica,sans-Serif\" font-size=\"14.00\">sepal width (cm) ≤ 3.1</text>\r\n",
       "<text text-anchor=\"start\" x=\"601\" y=\"-275.8\" font-family=\"Helvetica,sans-Serif\" font-size=\"14.00\">entropy = 0.9183</text>\r\n",
       "<text text-anchor=\"start\" x=\"616\" y=\"-260.8\" font-family=\"Helvetica,sans-Serif\" font-size=\"14.00\">samples = 3</text>\r\n",
       "<text text-anchor=\"start\" x=\"607\" y=\"-245.8\" font-family=\"Helvetica,sans-Serif\" font-size=\"14.00\">value = [0, 1, 2]</text>\r\n",
       "<text text-anchor=\"start\" x=\"605.5\" y=\"-230.8\" font-family=\"Helvetica,sans-Serif\" font-size=\"14.00\">class = virginica</text>\r\n",
       "</g>\r\n",
       "<!-- 12&#45;&gt;13 -->\r\n",
       "<g id=\"edge13\" class=\"edge\"><title>12&#45;&gt;13</title>\r\n",
       "<path fill=\"none\" stroke=\"black\" d=\"M655.5,-341.907C655.5,-333.649 655.5,-324.864 655.5,-316.302\"/>\r\n",
       "<polygon fill=\"black\" stroke=\"black\" points=\"659,-316.021 655.5,-306.021 652,-316.021 659,-316.021\"/>\r\n",
       "</g>\r\n",
       "<!-- 16 -->\r\n",
       "<g id=\"node17\" class=\"node\"><title>16</title>\r\n",
       "<path fill=\"#8139e5\" stroke=\"black\" d=\"M860,-298.5C860,-298.5 763,-298.5 763,-298.5 757,-298.5 751,-292.5 751,-286.5 751,-286.5 751,-242.5 751,-242.5 751,-236.5 757,-230.5 763,-230.5 763,-230.5 860,-230.5 860,-230.5 866,-230.5 872,-236.5 872,-242.5 872,-242.5 872,-286.5 872,-286.5 872,-292.5 866,-298.5 860,-298.5\"/>\r\n",
       "<text text-anchor=\"start\" x=\"769.5\" y=\"-283.3\" font-family=\"Helvetica,sans-Serif\" font-size=\"14.00\">entropy = 0.0</text>\r\n",
       "<text text-anchor=\"start\" x=\"768\" y=\"-268.3\" font-family=\"Helvetica,sans-Serif\" font-size=\"14.00\">samples = 43</text>\r\n",
       "<text text-anchor=\"start\" x=\"759\" y=\"-253.3\" font-family=\"Helvetica,sans-Serif\" font-size=\"14.00\">value = [0, 0, 43]</text>\r\n",
       "<text text-anchor=\"start\" x=\"761.5\" y=\"-238.3\" font-family=\"Helvetica,sans-Serif\" font-size=\"14.00\">class = virginica</text>\r\n",
       "</g>\r\n",
       "<!-- 12&#45;&gt;16 -->\r\n",
       "<g id=\"edge16\" class=\"edge\"><title>12&#45;&gt;16</title>\r\n",
       "<path fill=\"none\" stroke=\"black\" d=\"M709.623,-341.907C725.66,-329.88 743.187,-316.735 759.112,-304.791\"/>\r\n",
       "<polygon fill=\"black\" stroke=\"black\" points=\"761.377,-307.467 767.277,-298.667 757.177,-301.867 761.377,-307.467\"/>\r\n",
       "</g>\r\n",
       "<!-- 14 -->\r\n",
       "<g id=\"node15\" class=\"node\"><title>14</title>\r\n",
       "<path fill=\"#8139e5\" stroke=\"black\" d=\"M701.5,-179.5C701.5,-179.5 609.5,-179.5 609.5,-179.5 603.5,-179.5 597.5,-173.5 597.5,-167.5 597.5,-167.5 597.5,-123.5 597.5,-123.5 597.5,-117.5 603.5,-111.5 609.5,-111.5 609.5,-111.5 701.5,-111.5 701.5,-111.5 707.5,-111.5 713.5,-117.5 713.5,-123.5 713.5,-123.5 713.5,-167.5 713.5,-167.5 713.5,-173.5 707.5,-179.5 701.5,-179.5\"/>\r\n",
       "<text text-anchor=\"start\" x=\"613.5\" y=\"-164.3\" font-family=\"Helvetica,sans-Serif\" font-size=\"14.00\">entropy = 0.0</text>\r\n",
       "<text text-anchor=\"start\" x=\"616\" y=\"-149.3\" font-family=\"Helvetica,sans-Serif\" font-size=\"14.00\">samples = 2</text>\r\n",
       "<text text-anchor=\"start\" x=\"607\" y=\"-134.3\" font-family=\"Helvetica,sans-Serif\" font-size=\"14.00\">value = [0, 0, 2]</text>\r\n",
       "<text text-anchor=\"start\" x=\"605.5\" y=\"-119.3\" font-family=\"Helvetica,sans-Serif\" font-size=\"14.00\">class = virginica</text>\r\n",
       "</g>\r\n",
       "<!-- 13&#45;&gt;14 -->\r\n",
       "<g id=\"edge14\" class=\"edge\"><title>13&#45;&gt;14</title>\r\n",
       "<path fill=\"none\" stroke=\"black\" d=\"M655.5,-222.907C655.5,-212.204 655.5,-200.615 655.5,-189.776\"/>\r\n",
       "<polygon fill=\"black\" stroke=\"black\" points=\"659,-189.667 655.5,-179.667 652,-189.667 659,-189.667\"/>\r\n",
       "</g>\r\n",
       "<!-- 15 -->\r\n",
       "<g id=\"node16\" class=\"node\"><title>15</title>\r\n",
       "<path fill=\"#39e581\" stroke=\"black\" d=\"M847,-179.5C847,-179.5 744,-179.5 744,-179.5 738,-179.5 732,-173.5 732,-167.5 732,-167.5 732,-123.5 732,-123.5 732,-117.5 738,-111.5 744,-111.5 744,-111.5 847,-111.5 847,-111.5 853,-111.5 859,-117.5 859,-123.5 859,-123.5 859,-167.5 859,-167.5 859,-173.5 853,-179.5 847,-179.5\"/>\r\n",
       "<text text-anchor=\"start\" x=\"753.5\" y=\"-164.3\" font-family=\"Helvetica,sans-Serif\" font-size=\"14.00\">entropy = 0.0</text>\r\n",
       "<text text-anchor=\"start\" x=\"756\" y=\"-149.3\" font-family=\"Helvetica,sans-Serif\" font-size=\"14.00\">samples = 1</text>\r\n",
       "<text text-anchor=\"start\" x=\"747\" y=\"-134.3\" font-family=\"Helvetica,sans-Serif\" font-size=\"14.00\">value = [0, 1, 0]</text>\r\n",
       "<text text-anchor=\"start\" x=\"740\" y=\"-119.3\" font-family=\"Helvetica,sans-Serif\" font-size=\"14.00\">class = versicolor</text>\r\n",
       "</g>\r\n",
       "<!-- 13&#45;&gt;15 -->\r\n",
       "<g id=\"edge15\" class=\"edge\"><title>13&#45;&gt;15</title>\r\n",
       "<path fill=\"none\" stroke=\"black\" d=\"M704.072,-222.907C718.332,-210.99 733.905,-197.976 748.092,-186.12\"/>\r\n",
       "<polygon fill=\"black\" stroke=\"black\" points=\"750.384,-188.765 755.813,-179.667 745.895,-183.394 750.384,-188.765\"/>\r\n",
       "</g>\r\n",
       "</g>\r\n",
       "</svg>\r\n"
      ],
      "text/plain": [
       "<graphviz.files.Source at 0x87cd870>"
      ]
     },
     "execution_count": 12,
     "metadata": {},
     "output_type": "execute_result"
    }
   ],
   "source": [
    "dot_data = tree.export_graphviz(clf01, out_file=None, \n",
    "                         feature_names=fname01,  \n",
    "                         class_names=tname01,  \n",
    "                         filled=True, rounded=True,  \n",
    "                         special_characters=True)  \n",
    "graph = graphviz.Source(dot_data)  \n",
    "graph"
   ]
  },
  {
   "cell_type": "markdown",
   "metadata": {},
   "source": [
    "# 生成图片"
   ]
  },
  {
   "cell_type": "code",
   "execution_count": 13,
   "metadata": {},
   "outputs": [
    {
     "name": "stdout",
     "output_type": "stream",
     "text": [
      " DecisionTreeClassifier(criterion='gini', splitter='best', max_depth=None,\n",
      "                        min_samples_split=2, min_samples_leaf=1,\n",
      "                        min_weight_fraction_leaf=0.0, max_features=None,\n",
      "                        random_state=None, max_leaf_nodes=None,\n",
      "                        min_impurity_split=1e-07, class_weight=None,\n",
      "                        presort=False)\n",
      "\n",
      "A decision tree classifier.\n",
      "\n",
      "Read more in the :ref:`User Guide <tree>`.\n",
      "\n",
      "Parameters\n",
      "----------\n",
      "criterion : string, optional (default=\"gini\")\n",
      "    The function to measure the quality of a split. Supported criteria are\n",
      "    \"gini\" for the Gini impurity and \"entropy\" for the information gain.\n",
      "\n",
      "splitter : string, optional (default=\"best\")\n",
      "    The strategy used to choose the split at each node. Supported\n",
      "    strategies are \"best\" to choose the best split and \"random\" to choose\n",
      "    the best random split.\n",
      "\n",
      "max_features : int, float, string or None, optional (default=None)\n",
      "    The number of features to consider when looking for the best split:\n",
      "\n",
      "        - If int, then consider `max_features` features at each split.\n",
      "        - If float, then `max_features` is a percentage and\n",
      "          `int(max_features * n_features)` features are considered at each\n",
      "          split.\n",
      "        - If \"auto\", then `max_features=sqrt(n_features)`.\n",
      "        - If \"sqrt\", then `max_features=sqrt(n_features)`.\n",
      "        - If \"log2\", then `max_features=log2(n_features)`.\n",
      "        - If None, then `max_features=n_features`.\n",
      "\n",
      "    Note: the search for a split does not stop until at least one\n",
      "    valid partition of the node samples is found, even if it requires to\n",
      "    effectively inspect more than ``max_features`` features.\n",
      "\n",
      "max_depth : int or None, optional (default=None)\n",
      "    The maximum depth of the tree. If None, then nodes are expanded until\n",
      "    all leaves are pure or until all leaves contain less than\n",
      "    min_samples_split samples.\n",
      "\n",
      "min_samples_split : int, float, optional (default=2)\n",
      "    The minimum number of samples required to split an internal node:\n",
      "\n",
      "    - If int, then consider `min_samples_split` as the minimum number.\n",
      "    - If float, then `min_samples_split` is a percentage and\n",
      "      `ceil(min_samples_split * n_samples)` are the minimum\n",
      "      number of samples for each split.\n",
      "\n",
      "    .. versionchanged:: 0.18\n",
      "       Added float values for percentages.\n",
      "\n",
      "min_samples_leaf : int, float, optional (default=1)\n",
      "    The minimum number of samples required to be at a leaf node:\n",
      "\n",
      "    - If int, then consider `min_samples_leaf` as the minimum number.\n",
      "    - If float, then `min_samples_leaf` is a percentage and\n",
      "      `ceil(min_samples_leaf * n_samples)` are the minimum\n",
      "      number of samples for each node.\n",
      "\n",
      "    .. versionchanged:: 0.18\n",
      "       Added float values for percentages.\n",
      "\n",
      "min_weight_fraction_leaf : float, optional (default=0.)\n",
      "    The minimum weighted fraction of the sum total of weights (of all\n",
      "    the input samples) required to be at a leaf node. Samples have\n",
      "    equal weight when sample_weight is not provided.\n",
      "\n",
      "max_leaf_nodes : int or None, optional (default=None)\n",
      "    Grow a tree with ``max_leaf_nodes`` in best-first fashion.\n",
      "    Best nodes are defined as relative reduction in impurity.\n",
      "    If None then unlimited number of leaf nodes.\n",
      "\n",
      "class_weight : dict, list of dicts, \"balanced\" or None, optional (default=None)\n",
      "    Weights associated with classes in the form ``{class_label: weight}``.\n",
      "    If not given, all classes are supposed to have weight one. For\n",
      "    multi-output problems, a list of dicts can be provided in the same\n",
      "    order as the columns of y.\n",
      "\n",
      "    The \"balanced\" mode uses the values of y to automatically adjust\n",
      "    weights inversely proportional to class frequencies in the input data\n",
      "    as ``n_samples / (n_classes * np.bincount(y))``\n",
      "\n",
      "    For multi-output, the weights of each column of y will be multiplied.\n",
      "\n",
      "    Note that these weights will be multiplied with sample_weight (passed\n",
      "    through the fit method) if sample_weight is specified.\n",
      "\n",
      "random_state : int, RandomState instance or None, optional (default=None)\n",
      "    If int, random_state is the seed used by the random number generator;\n",
      "    If RandomState instance, random_state is the random number generator;\n",
      "    If None, the random number generator is the RandomState instance used\n",
      "    by `np.random`.\n",
      "\n",
      "min_impurity_split : float, optional (default=1e-7)\n",
      "    Threshold for early stopping in tree growth. A node will split\n",
      "    if its impurity is above the threshold, otherwise it is a leaf.\n",
      "\n",
      "    .. versionadded:: 0.18\n",
      "\n",
      "presort : bool, optional (default=False)\n",
      "    Whether to presort the data to speed up the finding of best splits in\n",
      "    fitting. For the default settings of a decision tree on large\n",
      "    datasets, setting this to true may slow down the training process.\n",
      "    When using either a smaller dataset or a restricted depth, this may\n",
      "    speed up the training.\n",
      "\n",
      "Attributes\n",
      "----------\n",
      "classes_ : array of shape = [n_classes] or a list of such arrays\n",
      "    The classes labels (single output problem),\n",
      "    or a list of arrays of class labels (multi-output problem).\n",
      "\n",
      "feature_importances_ : array of shape = [n_features]\n",
      "    The feature importances. The higher, the more important the\n",
      "    feature. The importance of a feature is computed as the (normalized)\n",
      "    total reduction of the criterion brought by that feature.  It is also\n",
      "    known as the Gini importance [4]_.\n",
      "\n",
      "max_features_ : int,\n",
      "    The inferred value of max_features.\n",
      "\n",
      "n_classes_ : int or list\n",
      "    The number of classes (for single output problems),\n",
      "    or a list containing the number of classes for each\n",
      "    output (for multi-output problems).\n",
      "\n",
      "n_features_ : int\n",
      "    The number of features when ``fit`` is performed.\n",
      "\n",
      "n_outputs_ : int\n",
      "    The number of outputs when ``fit`` is performed.\n",
      "\n",
      "tree_ : Tree object\n",
      "    The underlying Tree object.\n",
      "\n",
      "See also\n",
      "--------\n",
      "DecisionTreeRegressor\n",
      "\n",
      "References\n",
      "----------\n",
      "\n",
      ".. [1] https://en.wikipedia.org/wiki/Decision_tree_learning\n",
      "\n",
      ".. [2] L. Breiman, J. Friedman, R. Olshen, and C. Stone, \"Classification\n",
      "       and Regression Trees\", Wadsworth, Belmont, CA, 1984.\n",
      "\n",
      ".. [3] T. Hastie, R. Tibshirani and J. Friedman. \"Elements of Statistical\n",
      "       Learning\", Springer, 2009.\n",
      "\n",
      ".. [4] L. Breiman, and A. Cutler, \"Random Forests\",\n",
      "       http://www.stat.berkeley.edu/~breiman/RandomForests/cc_home.htm\n",
      "\n",
      "Examples\n",
      "--------\n",
      ">>> from sklearn.datasets import load_iris\n",
      ">>> from sklearn.model_selection import cross_val_score\n",
      ">>> from sklearn.tree import DecisionTreeClassifier\n",
      ">>> clf = DecisionTreeClassifier(random_state=0)\n",
      ">>> iris = load_iris()\n",
      ">>> cross_val_score(clf, iris.data, iris.target, cv=10)\n",
      "...                             # doctest: +SKIP\n",
      "...\n",
      "array([ 1.     ,  0.93...,  0.86...,  0.93...,  0.93...,\n",
      "        0.93...,  0.93...,  1.     ,  0.93...,  1.      ])\n",
      "\n",
      "\n",
      "Methods:\n",
      "\n",
      "  predict  --  Predict class or regression value for X.\n",
      "  decision_path  --  Return the decision path in the tree\n",
      "  apply  --  Returns the index of the leaf that each sample is predicted as.\n",
      "  predict_proba  --  Predict class probabilities of the input samples X.\n",
      "  fit  --  Build a decision tree classifier from the training set (X, y).\n",
      "  transform  --  DEPRECATED: Support to use estimators as feature selectors will be removed in version 0.19. Use SelectFromModel instead.\n",
      "  get_params  --  Get parameters for this estimator.\n",
      "  score  --  Returns the mean accuracy on the given test data and labels.\n",
      "  predict_log_proba  --  Predict class log-probabilities of the input samples X.\n",
      "  set_params  --  Set the parameters of this estimator.\n",
      "  fit_transform  --  Fit to data, then transform it.\n"
     ]
    }
   ],
   "source": [
    "np.info(tree.DecisionTreeClassifier)"
   ]
  },
  {
   "cell_type": "code",
   "execution_count": 27,
   "metadata": {},
   "outputs": [
    {
     "name": "stdout",
     "output_type": "stream",
     "text": [
      " Source(source, filename=None, directory=None, format=None, engine=None,\n",
      "        encoding=None)\n",
      "\n",
      "Verbatim DOT source code string to be rendered by Graphviz.\n",
      "\n",
      "Args:\n",
      "    source: The verbatim DOT source code string.\n",
      "    filename: Filename for saving the source (defaults to name + '.gv').\n",
      "    directory: (Sub)directory for source saving and rendering.\n",
      "    format: Rendering output format ('pdf', 'png', ...).\n",
      "    engine: Layout command used ('dot', 'neato', ...).\n",
      "    encoding: Encoding for saving the source.\n",
      "\n",
      ".. note::\n",
      "    All parameters except source are optional and can be changed under\n",
      "    their corresponding attribute name after instance creation.\n",
      "\n",
      "\n",
      "Methods:\n",
      "\n",
      "  render  --  Save the source to file and render with the Graphviz engine.\n",
      "  save  --  Save the DOT source to file.\n",
      "  pipe  --  Return the source piped through the Graphviz layout command.\n",
      "  view  --  Save the source to file, open the rendered result in a viewer.\n"
     ]
    }
   ],
   "source": [
    "np.info(graphviz.Source)"
   ]
  },
  {
   "cell_type": "code",
   "execution_count": null,
   "metadata": {
    "collapsed": true
   },
   "outputs": [],
   "source": []
  }
 ],
 "metadata": {
  "kernelspec": {
   "display_name": "Python 2",
   "language": "python",
   "name": "python2"
  },
  "language_info": {
   "codemirror_mode": {
    "name": "ipython",
    "version": 2
   },
   "file_extension": ".py",
   "mimetype": "text/x-python",
   "name": "python",
   "nbconvert_exporter": "python",
   "pygments_lexer": "ipython2",
   "version": "2.7.13"
  }
 },
 "nbformat": 4,
 "nbformat_minor": 2
}
